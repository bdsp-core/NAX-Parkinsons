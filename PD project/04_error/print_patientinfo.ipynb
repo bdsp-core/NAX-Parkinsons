{
 "cells": [
  {
   "cell_type": "code",
   "execution_count": 1,
   "metadata": {},
   "outputs": [],
   "source": [
    "import pandas as pd\n"
   ]
  },
  {
   "cell_type": "code",
   "execution_count": 2,
   "metadata": {},
   "outputs": [],
   "source": [
    "# info_falseneg=pd.read_csv('/home/bram/bramenv/error_analysis/error_neg_matrixinfo.csv')"
   ]
  },
  {
   "cell_type": "code",
   "execution_count": 3,
   "metadata": {},
   "outputs": [],
   "source": [
    "# info_falsepos=pd.read_csv('/home/bram/bramenv/error_analysis/error_pos_matrixinfo.csv')"
   ]
  },
  {
   "cell_type": "code",
   "execution_count": 4,
   "metadata": {},
   "outputs": [],
   "source": [
    "df =pd.read_csv('/home/bram/Project_PD/aa_test_2 matrix/newmatrix_final.csv')"
   ]
  },
  {
   "cell_type": "code",
   "execution_count": 19,
   "metadata": {},
   "outputs": [
    {
     "name": "stdout",
     "output_type": "stream",
     "text": [
      "\n",
      "Columns from 'ICD' onwards for BDSPPatientID 151299299:\n",
      "     ICD  Levodopa  Carbidopa  Dopamine  Dopamineagonists  Monoamineoxidase  \\\n",
      "933    1         1          1         0                 0                 0   \n",
      "\n",
      "     Catechol-O-methyltransferase  Apomorphine  Rotigotine  Pramipexole  \\\n",
      "933                             0            0           0            0   \n",
      "\n",
      "     Ropinirole  Selegiline  Rasagiline  Entacapone  Tolcapone  \\\n",
      "933           0           0           0           0          0   \n",
      "\n",
      "     Trihexyphenidyl  Benztropine  Amantadine  Stalevo  Neupro  Mirapex  \\\n",
      "933                0            0           0        0       0        0   \n",
      "\n",
      "     Requip  Sinemet  Madopar  Comtan  Azilect  Eldepryl  Zelapar  \\\n",
      "933       0        0        0       0        0         0        0   \n",
      "\n",
      "     Bromocriptine  Pergolide  Safinamide  Opicapone  Zonisamide  Duopa  \\\n",
      "933              0          0           0          0           0      0   \n",
      "\n",
      "     Inbrija  Xadago  Nuplazid  Ongentys  Nourianz  RequipXL  Apokyn  Zydis  \\\n",
      "933        0       0         0         0         0         0       0      0   \n",
      "\n",
      "     Tasmar  COMT  MAO  Istradefylline  Rytary  annot  \n",
      "933       0     0    0               0       0      0  \n"
     ]
    }
   ],
   "source": [
    "# Function to print columns from a specific starting column onwards based on patient ID\n",
    "def print_columns_from_icd_onwards(df, patient_id, start_column):\n",
    "    # Locate the specific row based on BDSPPatientID\n",
    "    row = df.loc[df['BDSPPatientID'] == patient_id]\n",
    "    \n",
    "    if row.empty:\n",
    "        print(f\"No data found for BDSPPatientID {patient_id}\")\n",
    "        return\n",
    "    \n",
    "    # Get the column index for the starting column\n",
    "    start_index = df.columns.get_loc(start_column)\n",
    "    \n",
    "    # Print columns from the starting column onwards\n",
    "    print(row.iloc[:, start_index:])\n",
    "\n",
    "pd.set_option('display.max_columns', None)\n",
    "\n",
    "# Specific patient ID to search for\n",
    "patient_id = 151299299\n",
    "\n",
    "start_column = 'ICD'\n",
    "\n",
    "print(f\"\\nColumns from '{start_column}' onwards for BDSPPatientID {patient_id}:\")\n",
    "print_columns_from_icd_onwards(df, patient_id, start_column)\n"
   ]
  },
  {
   "cell_type": "code",
   "execution_count": null,
   "metadata": {},
   "outputs": [
    {
     "name": "stdout",
     "output_type": "stream",
     "text": [
      "\n",
      "Columns from 'ICD' onwards for BDSPPatientID 118741758:\n",
      "    ICD  Levodopa  Carbidopa  Dopamine  Dopamineagonists  Monoamineoxidase  \\\n",
      "70    0         0          0         0                 0                 0   \n",
      "\n",
      "    Catechol-O-methyltransferase  Apomorphine  Rotigotine  Pramipexole  \\\n",
      "70                             0            0           0            0   \n",
      "\n",
      "    Ropinirole  Selegiline  Rasagiline  Entacapone  Tolcapone  \\\n",
      "70           0           0           0           0          0   \n",
      "\n",
      "    Trihexyphenidyl  Benztropine  Amantadine  Stalevo  Neupro  Mirapex  \\\n",
      "70                0            0           0        0       0        0   \n",
      "\n",
      "    Requip  Sinemet  Madopar  Comtan  Azilect  Eldepryl  Zelapar  \\\n",
      "70       0        0        0       0        0         0        0   \n",
      "\n",
      "    Bromocriptine  Pergolide  Safinamide  Opicapone  Zonisamide  Duopa  \\\n",
      "70              0          0           0          0           0      0   \n",
      "\n",
      "    Inbrija  Xadago  Nuplazid  Ongentys  Nourianz  RequipXL  Apokyn  Zydis  \\\n",
      "70        0       0         0         0         0         0       0      0   \n",
      "\n",
      "    Tasmar  COMT  MAO  Istradefylline  Rytary  annot  \n",
      "70       0     0    0               0       0      0  \n"
     ]
    }
   ],
   "source": [
    "ICD:  MED: \n",
    "\n",
    "# Function to print columns from a specific starting column onwards based on patient ID\n",
    "def print_columns_from_icd_onwards(df, patient_id, start_column):\n",
    "    # Locate the specific row based on BDSPPatientID\n",
    "    row = df.loc[df['BDSPPatientID'] == patient_id]\n",
    "    \n",
    "    if row.empty:\n",
    "        print(f\"No data found for BDSPPatientID {patient_id}\")\n",
    "        return\n",
    "    \n",
    "    # Get the column index for the starting column\n",
    "    start_index = df.columns.get_loc(start_column)\n",
    "    \n",
    "    # Print columns from the starting column onwards\n",
    "    print(row.iloc[:, start_index:])\n",
    "\n",
    "pd.set_option('display.max_columns', None)\n",
    "\n",
    "# Specific patient ID to search for\n",
    "patient_id = 118741758\n",
    "\n",
    "start_column = 'ICD'\n",
    "df= info_falsepos\n",
    "print(f\"\\nColumns from '{start_column}' onwards for BDSPPatientID {patient_id}:\")\n",
    "print_columns_from_icd_onwards(df, patient_id, start_column)\n"
   ]
  },
  {
   "cell_type": "code",
   "execution_count": null,
   "metadata": {},
   "outputs": [
    {
     "name": "stdout",
     "output_type": "stream",
     "text": [
      "\n",
      "Columns from 'ICD' onwards for BDSPPatientID 119341171:\n",
      "No data found for BDSPPatientID 119341171\n"
     ]
    }
   ],
   "source": [
    "# Function to print columns from a specific starting column onwards based on patient ID\n",
    "def print_columns_from_icd_onwards(df, patient_id, start_column):\n",
    "    # Locate the specific row based on BDSPPatientID\n",
    "    row = df.loc[df['BDSPPatientID'] == patient_id]\n",
    "    \n",
    "    if row.empty:\n",
    "        print(f\"No data found for BDSPPatientID {patient_id}\")\n",
    "        return\n",
    "    \n",
    "    # Get the column index for the starting column\n",
    "    start_index = df.columns.get_loc(start_column)\n",
    "    \n",
    "    # Print columns from the starting column onwards\n",
    "    print(row.iloc[:, start_index:])\n",
    "\n",
    "pd.set_option('display.max_columns', None)\n",
    "\n",
    "# Specific patient ID to search for\n",
    "patient_id = 119341171\n",
    "start_column = 'ICD'\n",
    "df= info_falseneg\n",
    "print(f\"\\nColumns from '{start_column}' onwards for BDSPPatientID {patient_id}:\")\n",
    "print_columns_from_icd_onwards(df, patient_id, start_column)\n"
   ]
  },
  {
   "cell_type": "code",
   "execution_count": null,
   "metadata": {},
   "outputs": [],
   "source": []
  }
 ],
 "metadata": {
  "kernelspec": {
   "display_name": "bramenv",
   "language": "python",
   "name": "python3"
  },
  "language_info": {
   "codemirror_mode": {
    "name": "ipython",
    "version": 3
   },
   "file_extension": ".py",
   "mimetype": "text/x-python",
   "name": "python",
   "nbconvert_exporter": "python",
   "pygments_lexer": "ipython3",
   "version": "3.10.12"
  }
 },
 "nbformat": 4,
 "nbformat_minor": 2
}
