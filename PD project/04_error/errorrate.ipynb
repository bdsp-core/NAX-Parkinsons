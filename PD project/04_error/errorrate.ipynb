{
 "cells": [
  {
   "cell_type": "code",
   "execution_count": null,
   "metadata": {},
   "outputs": [],
   "source": [
    "import pandas as pd"
   ]
  },
  {
   "cell_type": "code",
   "execution_count": null,
   "metadata": {},
   "outputs": [],
   "source": [
    "matrix= pd.read_csv('/home/bram/Project_PD/afeaturematrix/ALLHOSPITALS_NEW_DATA.csv')"
   ]
  },
  {
   "cell_type": "code",
   "execution_count": null,
   "metadata": {},
   "outputs": [],
   "source": [
    "print(matrix)"
   ]
  },
  {
   "cell_type": "code",
   "execution_count": null,
   "metadata": {},
   "outputs": [],
   "source": [
    "MGB=['MGB']\n",
    "BIDMC=['BIDMC']\n",
    "STF=['STF']"
   ]
  },
  {
   "cell_type": "code",
   "execution_count": null,
   "metadata": {},
   "outputs": [],
   "source": [
    "MGB_MATRIX = matrix[matrix['hospital'].isin(MGB)]\n",
    "print(len(MGB_MATRIX))\n",
    "print(MGB_MATRIX['BDSPPatientID'].nunique())\n"
   ]
  },
  {
   "cell_type": "code",
   "execution_count": null,
   "metadata": {},
   "outputs": [],
   "source": [
    "# complete cohorts (not needed)\n",
    "sample_MGB_PLPL= list(pd.read_csv('/home/bram/Project_PD/COHORT_MGB/ICDPLMEDPL_MGB.csv'))\n",
    "sample_MGB_PLMI= list(pd.read_csv('/home/bram/Project_PD/COHORT_MGB/ICDPLMEDMI_MGB.csv'))\n",
    "sample_MGB_MIPL= list(pd.read_csv('/home/bram/Project_PD/COHORT_MGB/ICDMIMEDPL_MGB.csv'))\n",
    "sample_MGB_MIMI= list(pd.read_csv('/home/bram/Project_PD/COHORT_MGB/ICDMIMEDMI_MGB.csv'))"
   ]
  },
  {
   "cell_type": "code",
   "execution_count": null,
   "metadata": {},
   "outputs": [],
   "source": [
    "df_mgbplpl_N= pd.read_csv('/home/bram/internal_expansion/HOSPITALS/MGB/MGB_SAMPLE/NEW/SAMPLE_ICDPLMEDPL_MGB.csv')\n",
    "df_mgbplmi_N= pd.read_csv('/home/bram/internal_expansion/HOSPITALS/MGB/MGB_SAMPLE/NEW/SAMPLE_ICDPLMEDMI_MGB.csv')\n",
    "df_mgbmipl_N= pd.read_csv('/home/bram/internal_expansion/HOSPITALS/MGB/MGB_SAMPLE/NEW/SAMPLE_ICDMIMEDPL_MGB.csv')\n",
    "df_mgbmimi_N= pd.read_csv('/home/bram/internal_expansion/HOSPITALS/MGB/MGB_SAMPLE/NEW/SAMPLE_ICDMIMEDMI_MGB.csv')\n",
    "\n",
    "print(df_mgbplpl_N.columns)"
   ]
  },
  {
   "cell_type": "code",
   "execution_count": null,
   "metadata": {},
   "outputs": [],
   "source": [
    "dfs_mgb_N=[df_mgbplpl_N,df_mgbplmi_N, df_mgbmipl_N, df_mgbmimi_N] \n",
    "\n",
    "\n",
    "completeMGB_N_df = pd.concat(dfs_mgb_N, ignore_index=True)\n",
    "completeMGB_N_df['BDSPPatientID'].nunique()"
   ]
  },
  {
   "cell_type": "code",
   "execution_count": null,
   "metadata": {},
   "outputs": [],
   "source": [
    "df_mgbplpl_EL= pd.read_csv('/home/bram/internal_expansion/HOSPITALS/MGB/MGB_SAMPLE/ELIJAH/sample_ICDPLMEDPL_2_COR_MGH_ELIJAH.csv')\n",
    "df_mgbplmi_EL= pd.read_csv('/home/bram/internal_expansion/HOSPITALS/MGB/MGB_SAMPLE/ELIJAH/SAMPLE_ICDPLMEDMI_MGH_ELIJAH.csv')\n",
    "df_mgbmipl_EL= pd.read_csv('/home/bram/internal_expansion/HOSPITALS/MGB/MGB_SAMPLE/ELIJAH/SAMPLE_ICDMIMEDPL_MGH_ELIJAH.csv')\n",
    "df_mgbmimi_EL= pd.read_csv('/home/bram/internal_expansion/HOSPITALS/MGB/MGB_SAMPLE/ELIJAH/SAMPLE_ICDMIMEDMI_MGH_ELIJAH.csv')"
   ]
  },
  {
   "cell_type": "code",
   "execution_count": null,
   "metadata": {},
   "outputs": [],
   "source": [
    "# discard rows elijah\n",
    "\n",
    "df_mgbplpl_EL= df_mgbplpl_EL.drop(['annot', 'group'], axis=1)\n",
    "df_mgbplmi_EL= df_mgbplmi_EL.drop(['annot', 'group'], axis=1)\n",
    "df_mgbmipl_EL= df_mgbmipl_EL.drop(['annot', 'group'], axis=1)\n",
    "df_mgbmimi_EL= df_mgbmimi_EL.drop(['annot', 'group'], axis=1)\n",
    "print(df_mgbplpl_EL.columns)"
   ]
  },
  {
   "cell_type": "code",
   "execution_count": null,
   "metadata": {},
   "outputs": [],
   "source": [
    "dfs_mgb_el=[df_mgbplpl_EL,df_mgbplmi_EL, df_mgbmipl_EL, df_mgbmimi_EL] \n",
    "\n",
    "\n",
    "completeMGB_el_df = pd.concat(dfs_mgb_el, ignore_index=True)"
   ]
  },
  {
   "cell_type": "code",
   "execution_count": null,
   "metadata": {},
   "outputs": [],
   "source": [
    "completeMGB_dfs= [df_mgbplpl_N,df_mgbplmi_N, df_mgbmipl_N, df_mgbmimi_N, df_mgbplpl_EL,df_mgbplmi_EL, df_mgbmipl_EL, df_mgbmimi_EL]\n",
    "\n",
    "\n",
    "completeMGB_df = pd.concat(completeMGB_dfs, ignore_index=True)\n",
    "completeMGB_df['BDSPPatientID'].nunique()"
   ]
  },
  {
   "cell_type": "code",
   "execution_count": null,
   "metadata": {},
   "outputs": [],
   "source": [
    "df_BIDMCplpl= pd.read_csv('/home/bram/internal_expansion/HOSPITALS/BIDMC/BIDMC_SAMPLE/SAMPLE_ICDPLMEDPL_BIDMC.csv')\n",
    "df_BIDMCplmi= pd.read_csv('/home/bram/internal_expansion/HOSPITALS/BIDMC/BIDMC_SAMPLE/SAMPLE_ICDPLMEDMI_BIDMC.csv')\n",
    "df_BIDMCmipl= pd.read_csv('/home/bram/internal_expansion/HOSPITALS/BIDMC/BIDMC_SAMPLE/SAMPLE_ICDMIMEDPL_BIDMC.csv')\n",
    "df_BIDMCmimi= pd.read_csv('/home/bram/internal_expansion/HOSPITALS/BIDMC/BIDMC_SAMPLE/SAMPLE_ICDMIMEDMI_BIDMC.csv')"
   ]
  },
  {
   "cell_type": "code",
   "execution_count": null,
   "metadata": {},
   "outputs": [],
   "source": [
    "print(df_BIDMCplpl.columns)\n",
    "print(df_BIDMCplmi.columns)\n",
    "print(df_BIDMCmipl.columns)\n",
    "print(df_BIDMCmimi.columns)\n",
    "print(df_BIDMCplpl.head())"
   ]
  },
  {
   "cell_type": "code",
   "execution_count": null,
   "metadata": {},
   "outputs": [],
   "source": [
    "df_BIDMCplpl= df_BIDMCplpl.drop(['Unnamed: 0'], axis=1)"
   ]
  },
  {
   "cell_type": "code",
   "execution_count": null,
   "metadata": {},
   "outputs": [],
   "source": [
    "dfs_BIDMC = [df_BIDMCplpl,df_BIDMCplmi, df_BIDMCmipl, df_BIDMCmimi] \n",
    "\n",
    "completeBIDMC_df = pd.concat(dfs_BIDMC, ignore_index=True)\n",
    "print(len(completeBIDMC_df))  # validated"
   ]
  },
  {
   "cell_type": "code",
   "execution_count": null,
   "metadata": {},
   "outputs": [],
   "source": [
    "dfs_BIDMC = [df_BIDMCplpl,df_BIDMCplmi, df_BIDMCmipl, df_BIDMCmimi] \n",
    "\n",
    "completeBIDMC_df = pd.concat(dfs_BIDMC, ignore_index=True)\n",
    "print(len(completeBIDMC_df))  # validated"
   ]
  },
  {
   "cell_type": "code",
   "execution_count": null,
   "metadata": {},
   "outputs": [],
   "source": [
    "df_STANplpl= pd.read_csv('/home/bram/internal_expansion/HOSPITALS/Stanford/stanford_sample/SAMPLE_ICDPLMEDPL_STAN.csv')\n",
    "df_STANplmi= pd.read_csv('/home/bram/internal_expansion/HOSPITALS/Stanford/stanford_sample/SAMPLE_ICDPLMEDMI_STAN.csv')\n",
    "df_STANmipl= pd.read_csv('/home/bram/internal_expansion/HOSPITALS/Stanford/stanford_sample/SAMPLE_ICDMIMEDPL_STAN.csv')\n",
    "df_STANmimi= pd.read_csv('/home/bram/internal_expansion/HOSPITALS/Stanford/stanford_sample/SAMPLE_ICDMIMEDMI_STAN.csv')"
   ]
  },
  {
   "cell_type": "code",
   "execution_count": null,
   "metadata": {},
   "outputs": [],
   "source": [
    "dfs_STAN = [df_STANplpl,df_STANplmi, df_STANmipl, df_STANmimi] \n",
    "\n",
    "completeSTAN_df = pd.concat(dfs_STAN, ignore_index=True)\n",
    "print(len(completeSTAN_df))  # validated"
   ]
  },
  {
   "cell_type": "code",
   "execution_count": null,
   "metadata": {},
   "outputs": [],
   "source": [
    "plpl_dfs= [df_STANplpl['BDSPPatientID'], df_BIDMCplpl['BDSPPatientID'], df_mgbplpl_N['BDSPPatientID'], df_mgbplpl_EL['BDSPPatientID']]\n",
    "plpl=pd.concat(plpl_dfs, ignore_index=True)\n",
    "print(plpl)\n",
    "plpl_list=list(plpl)\n",
    "print(plpl_list)\n",
    "print(len(plpl_list))"
   ]
  },
  {
   "cell_type": "code",
   "execution_count": null,
   "metadata": {},
   "outputs": [],
   "source": [
    "plmi_dfs= [df_STANplmi['BDSPPatientID'], df_BIDMCplmi['BDSPPatientID'], df_mgbplmi_N['BDSPPatientID'], df_mgbplmi_EL['BDSPPatientID']]\n",
    "plmi=pd.concat(plmi_dfs, ignore_index=True)\n",
    "print(plmi)\n",
    "plmi_list=list(plmi)\n",
    "print(plmi_list)\n",
    "print(len(plmi_list))"
   ]
  },
  {
   "cell_type": "code",
   "execution_count": null,
   "metadata": {},
   "outputs": [],
   "source": [
    "mipl_dfs= [df_STANmipl['BDSPPatientID'], df_BIDMCmipl['BDSPPatientID'], df_mgbmipl_N['BDSPPatientID'], df_mgbmipl_EL['BDSPPatientID']]\n",
    "mipl=pd.concat(mipl_dfs, ignore_index=True)\n",
    "print(mipl)\n",
    "mipl_list=list(mipl)\n",
    "print(mipl_list)\n",
    "print(len(mipl_list))"
   ]
  },
  {
   "cell_type": "code",
   "execution_count": null,
   "metadata": {},
   "outputs": [],
   "source": [
    "mimi_dfs= [df_STANmimi['BDSPPatientID'], df_BIDMCmimi['BDSPPatientID'], df_mgbmimi_N['BDSPPatientID'], df_mgbmimi_EL['BDSPPatientID']]\n",
    "mimi=pd.concat(mimi_dfs, ignore_index=True)\n",
    "print(mimi)\n",
    "mimi_list=list(mimi)\n",
    "print(mimi_list)\n",
    "print(len(mimi_list))"
   ]
  },
  {
   "cell_type": "code",
   "execution_count": null,
   "metadata": {},
   "outputs": [],
   "source": [
    "# check\n",
    "check_dfs=[plpl, plmi, mipl, mimi]\n",
    "check=pd.concat(check_dfs, ignore_index=True)\n",
    "print(check.nunique())"
   ]
  },
  {
   "cell_type": "code",
   "execution_count": null,
   "metadata": {},
   "outputs": [],
   "source": [
    "print(len(df_mgbmimi_EL)+len(df_mgbmimi_N))\n",
    "print(len(df_mgbmipl_EL)+len(df_mgbmipl_N))\n",
    "print(len(df_mgbplmi_EL)+len(df_mgbplmi_N))\n",
    "print(len(df_mgbplpl_EL)+len(df_mgbplpl_N))"
   ]
  },
  {
   "cell_type": "code",
   "execution_count": null,
   "metadata": {},
   "outputs": [],
   "source": [
    "print(len(df_BIDMCmimi))\n",
    "print(len(df_BIDMCmipl))\n",
    "print(len(df_BIDMCplmi))\n",
    "print(len(df_BIDMCplpl))"
   ]
  },
  {
   "cell_type": "code",
   "execution_count": null,
   "metadata": {},
   "outputs": [],
   "source": [
    "print(len(df_STANmimi))\n",
    "print(len(df_STANmipl))\n",
    "print(len(df_STANplmi))\n",
    "print(len(df_STANplpl))"
   ]
  },
  {
   "cell_type": "code",
   "execution_count": null,
   "metadata": {},
   "outputs": [],
   "source": []
  },
  {
   "cell_type": "code",
   "execution_count": null,
   "metadata": {},
   "outputs": [],
   "source": [
    "MGB_PLPL= list(df_mgbplpl_N['BDSPPatientID'])+list(df_mgbplpl_EL['BDSPPatientID'])\n",
    "len(MGB_PLPL)\n",
    "MGB_PLMI= list(df_mgbplmi_N['BDSPPatientID'])+list(df_mgbplmi_EL['BDSPPatientID'])\n",
    "MGB_MIPL= list(df_mgbmipl_N['BDSPPatientID'])+list(df_mgbmipl_EL['BDSPPatientID'])\n",
    "MGB_MIMI= list(df_mgbmimi_N['BDSPPatientID'])+list(df_mgbmimi_EL['BDSPPatientID'])"
   ]
  },
  {
   "cell_type": "code",
   "execution_count": null,
   "metadata": {},
   "outputs": [],
   "source": [
    "# df_STANplpl['BDSPPatientID'], df_BIDMCplpl['BDSPPatientID']\n",
    "BIDMC_PLPL= list(df_BIDMCplpl['BDSPPatientID'])\n",
    "BIDMC_PLMI= list(df_BIDMCplmi['BDSPPatientID'])\n",
    "BIDMC_MIPL= list(df_BIDMCmipl['BDSPPatientID'])\n",
    "BIDMC_MIMI= list(df_BIDMCmimi['BDSPPatientID'])\n"
   ]
  },
  {
   "cell_type": "code",
   "execution_count": null,
   "metadata": {},
   "outputs": [],
   "source": [
    "STF_PLPL= list(df_STANplpl['BDSPPatientID'])\n",
    "STF_PLMI= list(df_STANmipl['BDSPPatientID'])\n",
    "STF_MIPL= list(df_STANplmi['BDSPPatientID'])\n",
    "STF_MIMI= list(df_STANmimi['BDSPPatientID'])"
   ]
  },
  {
   "cell_type": "code",
   "execution_count": null,
   "metadata": {},
   "outputs": [],
   "source": [
    "# test cohorts\n",
    "test=pd.read_csv('/home/bram/Project_PD/aa_test_2 matrix/test_set_final.csv')\n",
    "print(test)"
   ]
  },
  {
   "cell_type": "code",
   "execution_count": null,
   "metadata": {},
   "outputs": [],
   "source": [
    "MGB_plpl_test=test[test['BDSPPatientID'].isin(MGB_PLPL)]\n",
    "print(len(MGB_plpl_test))\n",
    "\n",
    "MGB_plmi_test=test[test['BDSPPatientID'].isin(MGB_PLMI)]\n",
    "print(len(MGB_plmi_test))\n",
    "\n",
    "MGB_mipl_test=test[test['BDSPPatientID'].isin(MGB_MIPL)]\n",
    "print(len(MGB_mipl_test))\n",
    "\n",
    "MGB_mimi_test=test[test['BDSPPatientID'].isin(MGB_MIMI)]\n",
    "print(len(MGB_mimi_test))\n"
   ]
  },
  {
   "cell_type": "code",
   "execution_count": null,
   "metadata": {},
   "outputs": [],
   "source": [
    "BIDMC_plpl_test=test[test['BDSPPatientID'].isin(BIDMC_PLPL)]\n",
    "print(len(BIDMC_plpl_test))\n",
    "\n",
    "BIDMC_plmi_test=test[test['BDSPPatientID'].isin(BIDMC_PLMI)]\n",
    "print(len(BIDMC_plmi_test))\n",
    "\n",
    "BIDMC_mipl_test=test[test['BDSPPatientID'].isin(BIDMC_MIPL)]\n",
    "print(len(BIDMC_mipl_test))\n",
    "\n",
    "BIDMC_mimi_test=test[test['BDSPPatientID'].isin(BIDMC_MIMI)]\n",
    "print(len(BIDMC_mimi_test))"
   ]
  },
  {
   "cell_type": "code",
   "execution_count": null,
   "metadata": {},
   "outputs": [],
   "source": [
    "STF_plpl_test=test[test['BDSPPatientID'].isin(STF_PLPL)]\n",
    "print(len(STF_plpl_test))\n",
    "\n",
    "STF_plmi_test=test[test['BDSPPatientID'].isin(STF_PLMI)]\n",
    "print(len(STF_plmi_test))\n",
    "\n",
    "STF_mipl_test=test[test['BDSPPatientID'].isin(STF_MIPL)]\n",
    "print(len(STF_mipl_test))\n",
    "\n",
    "STF_mimi_test=test[test['BDSPPatientID'].isin(STF_MIMI)]\n",
    "print(len(STF_mimi_test))"
   ]
  },
  {
   "cell_type": "code",
   "execution_count": null,
   "metadata": {},
   "outputs": [],
   "source": [
    "plpl_test=test[test['BDSPPatientID'].isin(plpl_list)]\n",
    "print(len(plpl_test))\n",
    "\n",
    "plmi_test=test[test['BDSPPatientID'].isin(plmi_list)]\n",
    "print(len(plmi_test))\n",
    "\n",
    "mipl_test=test[test['BDSPPatientID'].isin(mipl_list)]\n",
    "print(len(mipl_test))\n",
    "\n",
    "mimi_test=test[test['BDSPPatientID'].isin(mimi_list)]\n",
    "print(len(mimi_test))"
   ]
  },
  {
   "cell_type": "code",
   "execution_count": null,
   "metadata": {},
   "outputs": [],
   "source": [
    "false_neg=pd.read_csv('/home/bram/Project_PD/aa_test_2 matrix/finalperf./false_negatives.csv')\n",
    "print(false_neg.head())\n",
    "false_pos=pd.read_csv('/home/bram/Project_PD/aa_test_2 matrix/finalperf./false_positives.csv')\n",
    "print(false_pos.head())\n",
    "print(len(false_neg))\n",
    "print(len(false_pos))\n",
    "errors=pd.concat([false_neg, false_pos], ignore_index=True)\n",
    "print(len(errors))\n",
    "print(errors)"
   ]
  },
  {
   "cell_type": "code",
   "execution_count": null,
   "metadata": {},
   "outputs": [],
   "source": [
    "errors_list=list(errors['BDSPPatientID'].unique())\n",
    "\n",
    "print(len(errors_list))\n",
    "# string_count = sum(1 for item in errors_list if isinstance(item, str))\n",
    "\n",
    "# # Print the result\n",
    "# print(\"The number of strings in the list is:\", string_count)"
   ]
  },
  {
   "cell_type": "code",
   "execution_count": null,
   "metadata": {},
   "outputs": [],
   "source": [
    "plpl_test_errors=plpl_test[plpl_test['BDSPPatientID'].isin(errors_list)]\n",
    "print(len(plpl_test_errors))\n",
    "\n",
    "plmi_test_errors=plmi_test[plmi_test['BDSPPatientID'].isin(errors_list)]\n",
    "print(len(plmi_test_errors))\n",
    "\n",
    "mipl_test_errors=mipl_test[mipl_test['BDSPPatientID'].isin(errors_list)]\n",
    "print(len(mipl_test_errors))\n",
    "\n",
    "mimi_test_errors=mimi_test[mimi_test['BDSPPatientID'].isin(errors_list)]\n",
    "print(len(mimi_test_errors))"
   ]
  },
  {
   "cell_type": "code",
   "execution_count": null,
   "metadata": {},
   "outputs": [],
   "source": [
    "MGB_plpl_test_errors=MGB_plpl_test[MGB_plpl_test['BDSPPatientID'].isin(errors_list)]\n",
    "print(len(MGB_plpl_test_errors))\n",
    "\n",
    "MGB_plmi_test_errors=MGB_plmi_test[MGB_plmi_test['BDSPPatientID'].isin(errors_list)]\n",
    "print(len(MGB_plmi_test_errors))\n",
    "\n",
    "MGB_mipl_test_errors=MGB_mipl_test[MGB_mipl_test['BDSPPatientID'].isin(errors_list)]\n",
    "print(len(MGB_mipl_test_errors))\n",
    "\n",
    "MGB_mimi_test_errors=MGB_mimi_test[MGB_mimi_test['BDSPPatientID'].isin(errors_list)]\n",
    "print(len(MGB_mimi_test_errors))"
   ]
  },
  {
   "cell_type": "code",
   "execution_count": null,
   "metadata": {},
   "outputs": [],
   "source": [
    "BIDMC_plpl_test_errors=BIDMC_plpl_test[BIDMC_plpl_test['BDSPPatientID'].isin(errors_list)]\n",
    "print(len(BIDMC_plpl_test_errors))\n",
    "\n",
    "BIDMC_plmi_test_errors=BIDMC_plmi_test[BIDMC_plmi_test['BDSPPatientID'].isin(errors_list)]\n",
    "print(len(BIDMC_plmi_test_errors))\n",
    "\n",
    "BIDMC_mipl_test_errors=BIDMC_mipl_test[BIDMC_mipl_test['BDSPPatientID'].isin(errors_list)]\n",
    "print(len(BIDMC_mipl_test_errors))\n",
    "\n",
    "BIDMC_mimi_test_errors=BIDMC_mimi_test[BIDMC_mimi_test['BDSPPatientID'].isin(errors_list)]\n",
    "print(len(BIDMC_mimi_test_errors))"
   ]
  },
  {
   "cell_type": "code",
   "execution_count": null,
   "metadata": {},
   "outputs": [],
   "source": [
    "STF_plpl_test_errors=STF_plpl_test[STF_plpl_test['BDSPPatientID'].isin(errors_list)]\n",
    "print(len(STF_plpl_test_errors))\n",
    "\n",
    "STF_plmi_test_errors=STF_plmi_test[STF_plmi_test['BDSPPatientID'].isin(errors_list)]\n",
    "print(len(STF_plmi_test_errors))\n",
    "\n",
    "STF_mipl_test_errors=STF_mipl_test[STF_mipl_test['BDSPPatientID'].isin(errors_list)]\n",
    "print(len(STF_mipl_test_errors))\n",
    "\n",
    "STF_mimi_test_errors=STF_mimi_test[STF_mimi_test['BDSPPatientID'].isin(errors_list)]\n",
    "print(len(STF_mimi_test_errors))"
   ]
  }
 ],
 "metadata": {
  "kernelspec": {
   "display_name": "bramenv",
   "language": "python",
   "name": "python3"
  },
  "language_info": {
   "codemirror_mode": {
    "name": "ipython",
    "version": 3
   },
   "file_extension": ".py",
   "mimetype": "text/x-python",
   "name": "python",
   "nbconvert_exporter": "python",
   "pygments_lexer": "ipython3",
   "version": "3.10.12"
  }
 },
 "nbformat": 4,
 "nbformat_minor": 2
}
