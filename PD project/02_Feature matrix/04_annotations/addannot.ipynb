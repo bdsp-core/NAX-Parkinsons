{
 "cells": [
  {
   "cell_type": "code",
   "execution_count": 1,
   "metadata": {},
   "outputs": [],
   "source": [
    "import pandas as pd"
   ]
  },
  {
   "cell_type": "code",
   "execution_count": 3,
   "metadata": {},
   "outputs": [],
   "source": [
    "annotations= pd.read_csv('/home/bram/Project_PD/PD project/Feature matrix/all_notes_annotations/full_annotations_ordered2.csv')\n",
    "matrix= pd.read_csv('/home/bram/Project_PD/PD project/Feature matrix/03_MEDFEAT/finalmatrix.csv')"
   ]
  },
  {
   "cell_type": "code",
   "execution_count": 4,
   "metadata": {},
   "outputs": [
    {
     "name": "stdout",
     "output_type": "stream",
     "text": [
      "      BDSPPatientID  annot\n",
      "0         150709433      0\n",
      "1         150669096      0\n",
      "2         151275717      0\n",
      "3         151013494      0\n",
      "4         150642824      0\n",
      "...             ...    ...\n",
      "3822      119272633      1\n",
      "3823      113316634      0\n",
      "3824      116513628      0\n",
      "3825      119530902      0\n",
      "3826      120000076      0\n",
      "\n",
      "[3827 rows x 2 columns]\n",
      "      BDSPPatientID  CreateDate hospital  parkinson disease_pos  pd_pos  \\\n",
      "0         150709433  2017-10-23    BIDMC                      0       0   \n",
      "1         150669096  2022-03-09    BIDMC                      0       0   \n",
      "2         151275717  2018-05-01    BIDMC                      0       0   \n",
      "3         151013494  2021-06-09    BIDMC                      0       0   \n",
      "4         150642824  2021-11-24    BIDMC                      0       0   \n",
      "...             ...         ...      ...                    ...     ...   \n",
      "3822      119272633  2022-07-07      MGB                      1       0   \n",
      "3823      113316634  2021-11-08      MGB                      0       0   \n",
      "3824      116513628  2021-10-03      MGB                      1       0   \n",
      "3825      119530902  2022-06-04      MGB                      0       1   \n",
      "3826      120000076  2022-03-21      MGB                      0       1   \n",
      "\n",
      "      parkinson_pos  parkinsonismx_pos  disease_pos  akathisia_pos  \\\n",
      "0                 0                  0            1              0   \n",
      "1                 0                  0            0              0   \n",
      "2                 0                  0            1              0   \n",
      "3                 0                  0            0              0   \n",
      "4                 0                  0            0              0   \n",
      "...             ...                ...          ...            ...   \n",
      "3822              1                  0            1              0   \n",
      "3823              0                  0            0              0   \n",
      "3824              1                  0            1              0   \n",
      "3825              0                  0            1              0   \n",
      "3826              0                  0            1              0   \n",
      "\n",
      "      anosmia_pos  ...  Ongentys  Nourianz  RequipXL  Apokyn  Zydis  Tasmar  \\\n",
      "0               0  ...         0         0         0       0      0       0   \n",
      "1               0  ...         0         0         0       0      0       0   \n",
      "2               0  ...         0         0         0       0      0       0   \n",
      "3               0  ...         0         0         0       0      0       0   \n",
      "4               0  ...         0         0         0       0      0       0   \n",
      "...           ...  ...       ...       ...       ...     ...    ...     ...   \n",
      "3822            0  ...         0         0         0       0      0       0   \n",
      "3823            0  ...         0         0         0       0      0       0   \n",
      "3824            0  ...         0         0         0       0      0       0   \n",
      "3825            0  ...         0         0         0       0      0       0   \n",
      "3826            0  ...         0         0         0       0      0       0   \n",
      "\n",
      "      COMT  MAO  Istradefylline  Rytary  \n",
      "0        0    0               0       0  \n",
      "1        0    0               0       0  \n",
      "2        0    0               0       0  \n",
      "3        0    0               0       0  \n",
      "4        0    0               0       0  \n",
      "...    ...  ...             ...     ...  \n",
      "3822     0    0               0       0  \n",
      "3823     0    0               0       0  \n",
      "3824     0    0               0       0  \n",
      "3825     0    0               0       0  \n",
      "3826     0    0               0       0  \n",
      "\n",
      "[3827 rows x 258 columns]\n"
     ]
    }
   ],
   "source": [
    "print(annotations)\n",
    "print(matrix)"
   ]
  },
  {
   "cell_type": "code",
   "execution_count": 7,
   "metadata": {},
   "outputs": [
    {
     "name": "stdout",
     "output_type": "stream",
     "text": [
      "      BDSPPatientID  CreateDate hospital  parkinson disease_pos  pd_pos  \\\n",
      "0         150709433  2017-10-23    BIDMC                      0       0   \n",
      "1         150669096  2022-03-09    BIDMC                      0       0   \n",
      "2         151275717  2018-05-01    BIDMC                      0       0   \n",
      "3         151013494  2021-06-09    BIDMC                      0       0   \n",
      "4         150642824  2021-11-24    BIDMC                      0       0   \n",
      "...             ...         ...      ...                    ...     ...   \n",
      "3822      119272633  2022-07-07      MGB                      1       0   \n",
      "3823      113316634  2021-11-08      MGB                      0       0   \n",
      "3824      116513628  2021-10-03      MGB                      1       0   \n",
      "3825      119530902  2022-06-04      MGB                      0       1   \n",
      "3826      120000076  2022-03-21      MGB                      0       1   \n",
      "\n",
      "      parkinson_pos  parkinsonismx_pos  disease_pos  akathisia_pos  \\\n",
      "0                 0                  0            1              0   \n",
      "1                 0                  0            0              0   \n",
      "2                 0                  0            1              0   \n",
      "3                 0                  0            0              0   \n",
      "4                 0                  0            0              0   \n",
      "...             ...                ...          ...            ...   \n",
      "3822              1                  0            1              0   \n",
      "3823              0                  0            0              0   \n",
      "3824              1                  0            1              0   \n",
      "3825              0                  0            1              0   \n",
      "3826              0                  0            1              0   \n",
      "\n",
      "      anosmia_pos  ...  Nourianz  RequipXL  Apokyn  Zydis  Tasmar  COMT  MAO  \\\n",
      "0               0  ...         0         0       0      0       0     0    0   \n",
      "1               0  ...         0         0       0      0       0     0    0   \n",
      "2               0  ...         0         0       0      0       0     0    0   \n",
      "3               0  ...         0         0       0      0       0     0    0   \n",
      "4               0  ...         0         0       0      0       0     0    0   \n",
      "...           ...  ...       ...       ...     ...    ...     ...   ...  ...   \n",
      "3822            0  ...         0         0       0      0       0     0    0   \n",
      "3823            0  ...         0         0       0      0       0     0    0   \n",
      "3824            0  ...         0         0       0      0       0     0    0   \n",
      "3825            0  ...         0         0       0      0       0     0    0   \n",
      "3826            0  ...         0         0       0      0       0     0    0   \n",
      "\n",
      "      Istradefylline  Rytary  annot  \n",
      "0                  0       0      0  \n",
      "1                  0       0      0  \n",
      "2                  0       0      0  \n",
      "3                  0       0      0  \n",
      "4                  0       0      0  \n",
      "...              ...     ...    ...  \n",
      "3822               0       0      1  \n",
      "3823               0       0      0  \n",
      "3824               0       0      0  \n",
      "3825               0       0      0  \n",
      "3826               0       0      0  \n",
      "\n",
      "[3827 rows x 259 columns]\n"
     ]
    }
   ],
   "source": [
    "merged_df = pd.merge(matrix, annotations, on='BDSPPatientID', how='inner')\n",
    "\n",
    "# Display the merged dataframe\n",
    "print(merged_df)\n",
    "merged_df.to_csv('newmatrix_final.csv')"
   ]
  },
  {
   "cell_type": "code",
   "execution_count": null,
   "metadata": {},
   "outputs": [],
   "source": []
  }
 ],
 "metadata": {
  "kernelspec": {
   "display_name": "venv",
   "language": "python",
   "name": "python3"
  },
  "language_info": {
   "codemirror_mode": {
    "name": "ipython",
    "version": 3
   },
   "file_extension": ".py",
   "mimetype": "text/x-python",
   "name": "python",
   "nbconvert_exporter": "python",
   "pygments_lexer": "ipython3",
   "version": "3.10.12"
  }
 },
 "nbformat": 4,
 "nbformat_minor": 2
}
