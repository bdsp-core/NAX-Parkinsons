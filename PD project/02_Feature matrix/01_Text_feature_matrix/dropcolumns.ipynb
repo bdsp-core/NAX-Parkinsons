{
 "cells": [
  {
   "cell_type": "code",
   "execution_count": 26,
   "metadata": {},
   "outputs": [],
   "source": [
    "import pandas as pd\n"
   ]
  },
  {
   "cell_type": "code",
   "execution_count": 27,
   "metadata": {},
   "outputs": [
    {
     "name": "stdout",
     "output_type": "stream",
     "text": [
      "      BDSPPatientID  annot\n",
      "0         150709433      0\n",
      "1         150669096      0\n",
      "2         151275717      0\n",
      "3         151013494      0\n",
      "4         150642824      0\n",
      "...             ...    ...\n",
      "3822      119272633      1\n",
      "3823      113316634      0\n",
      "3824      116513628      0\n",
      "3825      119530902      0\n",
      "3826      120000076      0\n",
      "\n",
      "[3827 rows x 2 columns]\n"
     ]
    }
   ],
   "source": [
    "annotations=pd.read_csv('/home/bram/Project_PD/PD project/Feature matrix/all_notes_annotations/full_annotations_ordered2.csv')\n",
    "print(annotations)"
   ]
  },
  {
   "cell_type": "code",
   "execution_count": null,
   "metadata": {},
   "outputs": [],
   "source": []
  },
  {
   "cell_type": "code",
   "execution_count": 28,
   "metadata": {},
   "outputs": [
    {
     "name": "stdout",
     "output_type": "stream",
     "text": [
      "      BDSPPatientID  CreateDate hospital  parkinson disease_pos  pd_pos  \\\n",
      "0         150709433  2017-10-23    BIDMC                      0       0   \n",
      "1         150669096  2022-03-09    BIDMC                      0       0   \n",
      "2         151275717  2018-05-01    BIDMC                      0       0   \n",
      "3         151013494  2021-06-09    BIDMC                      0       0   \n",
      "4         150642824  2021-11-24    BIDMC                      0       0   \n",
      "...             ...         ...      ...                    ...     ...   \n",
      "3822      119272633  2022-07-07      MGB                      1       0   \n",
      "3823      113316634  2021-11-08      MGB                      0       0   \n",
      "3824      116513628  2021-10-03      MGB                      1       0   \n",
      "3825      119530902  2022-06-04      MGB                      0       1   \n",
      "3826      120000076  2022-03-21      MGB                      0       1   \n",
      "\n",
      "      parkinson_pos  parkinsonismx_pos  disease_pos  paralysis agitans_pos  \\\n",
      "0                 0                  0            1                      0   \n",
      "1                 0                  0            0                      0   \n",
      "2                 0                  0            1                      0   \n",
      "3                 0                  0            0                      0   \n",
      "4                 0                  0            0                      0   \n",
      "...             ...                ...          ...                    ...   \n",
      "3822              1                  0            1                      0   \n",
      "3823              0                  0            0                      0   \n",
      "3824              1                  0            1                      0   \n",
      "3825              0                  0            1                      0   \n",
      "3826              0                  0            1                      0   \n",
      "\n",
      "      primary parkinsonism_pos  ...  exelon_neg  cane_neg  fall_neg  \\\n",
      "0                            0  ...           0         0         0   \n",
      "1                            0  ...           0         0         0   \n",
      "2                            0  ...           0         0         1   \n",
      "3                            0  ...           0         0         0   \n",
      "4                            0  ...           0         0         0   \n",
      "...                        ...  ...         ...       ...       ...   \n",
      "3822                         0  ...           0         0         0   \n",
      "3823                         0  ...           0         0         0   \n",
      "3824                         0  ...           0         0         0   \n",
      "3825                         0  ...           0         0         0   \n",
      "3826                         0  ...           0         0         0   \n",
      "\n",
      "      deep brain stimulation_neg  dbs_neg  bradykinesia_neg  hypokinesia_neg  \\\n",
      "0                              0        0                 0                0   \n",
      "1                              0        0                 0                0   \n",
      "2                              0        0                 0                0   \n",
      "3                              0        0                 0                0   \n",
      "4                              0        0                 0                0   \n",
      "...                          ...      ...               ...              ...   \n",
      "3822                           0        0                 0                0   \n",
      "3823                           0        0                 0                0   \n",
      "3824                           0        0                 0                0   \n",
      "3825                           0        0                 0                0   \n",
      "3826                           0        0                 0                0   \n",
      "\n",
      "      dementia_neg  pulmonary complication_neg  pneumonia_neg  \n",
      "0                0                           0              0  \n",
      "1                0                           0              0  \n",
      "2                0                           0              0  \n",
      "3                0                           0              0  \n",
      "4                0                           0              0  \n",
      "...            ...                         ...            ...  \n",
      "3822             0                           0              0  \n",
      "3823             0                           0              0  \n",
      "3824             0                           0              0  \n",
      "3825             0                           0              0  \n",
      "3826             0                           0              0  \n",
      "\n",
      "[3827 rows x 315 columns]\n"
     ]
    }
   ],
   "source": [
    "new_matrix= pd.read_csv('/home/bram/Project_PD/PD project/Feature matrix/01_Text_feature_matrix/FEATMATRIX_TEXT.csv')\n",
    "print(new_matrix)"
   ]
  },
  {
   "cell_type": "code",
   "execution_count": 29,
   "metadata": {},
   "outputs": [],
   "source": [
    "keywords_list = [\"parkinson disease\", \"pd\", \"parkinson\", 'parkinsonismx', \"disease\", \"paralysis agitans\", \"primary parkinsonism\", \n",
    "    \"pdd\", \"akathisia\", \"alien limb\", \"alpha synuclein\", \"anosmia\", \"anticholinergic side effect\", \n",
    "    \"apraxia\", \"autonomic\", \"axial\", \"basophilic\", \"blepharospasm\", \"bradyphasia\", \"bradyphonia\", \n",
    "    \"bradyphrenia\", \"camptocormia\", \"cholinergic\", \"cogwheel\", \"cognitive impairment\", \"corticobasal\", \n",
    "    \"daws\", \"denervation\", \"dopamine\", \"dopamine agonist\", \"dysphagia\", \"dysphonia\", \"dystonia\", \n",
    "    \"facial\", \"fasciculation\", \"gba\", \"gait\", \"festinating\", \"shuffling\", \"freezing\", \"globus\", \n",
    "    \"hyposmia\", \"hyperreflexia\", \"hypokinetic\", \"hypomimia\", \"hypophonia\", \"idiopathic\", \"imaging\", \n",
    "    \"dat spect\", \"datscan\", \"dat\", \"mri\", \"scan\", \"lrrk2\", \"snca\", \"prkn\", \"pink1\", \"dj-1\", \"gba\", \n",
    "    \"vps35\", \"atp13a2\", \"lrrk1\", \"uchl1\", \"mao-b\", \"monoamine oxidase b inhibitor\", \"masked facies\", \n",
    "    \"medullary\", \"micrographia\", \"mild cognitive impairment\", \"mci\", \"montreal cognitive assessment\", \n",
    "    \"moca\", \"movement disorder\", \"multiple system atrophy\", \"msa\", \"nigra pars compacta\", \"nigrostriatal\", \n",
    "    \"ocular torticollis\", \"occupational therapy\", \"orthostatic\", \"orofacial\", \"pallidotomy\", \n",
    "    \"pallidothalamic\", \"palliative\", \"paratonia\", \"pathology\", \"pet\", \"physical therapy\", \"postencephalitic\", \n",
    "    \"posture\", \"primary progressive aphasia\", \"ppa\", \"prodrome\", \"progressive supranuclear palsy\", \n",
    "    \"psp\", \"pyramidal\", \"rem sleep behavior disorder\", \"rbd\", \"restless legs\", \"saccade\", \"sialorrhea\", \n",
    "    \"speech therapy\", \"spasmodic\", \"stooped\", \"subthalamic nucleus\", \"stn\", \"striatal dopamine deficiency\", \n",
    "    \"stiff\", \"rigidity\", \"subcortical\", \"supranuclear\", \"swallowing\", \"tetany\", \"thalamotomy\", \"tics\", \"toronto cognitive assessment\", \"torca\", \"tremor\", \"uptake\", \"vascular\", \"nausea\", \n",
    "    \"hallucination\", \"constipation\", \"fatigue\", \"insomnia\", \"depression\", \"anxiety\", \"psychosis\", \n",
    "    \"dosage adjustment\", \"physiotherapy\", \"lifestyle changes\", \"support group\", \"caregiver\", \n",
    "    \"medication adherence\", \"prescription refill\", \"fall precaution\", \"daily function\", \"self care\", \n",
    "    \"quality of life\", \"disease progression\", \"regular follow-up\", \"exercise\", \"sleep hygiene\", \n",
    "    \"bone health\", \"care coordination\", \"shuffling gait\", \"exelon patch\", \"exelon\", \"cane\", \"fall\", \n",
    "    \"deep brain stimulation\", \"dbs\", \"bradykinesia\", \"hypokinesia\", \"dementia\", \"pulmonary complication\", \n",
    "    \"pneumonia\"]\n",
    "\n"
   ]
  },
  {
   "cell_type": "code",
   "execution_count": 30,
   "metadata": {},
   "outputs": [],
   "source": [
    "def drop_sparse_features(df, threshold):\n",
    "    counts = df.iloc[:, 3:].sum()  # Exclude the 'text' column from counting\n",
    "    columns_to_drop = []\n",
    "\n",
    "    for keyword in keywords_list:\n",
    "        pos_col = f\"{keyword}_pos\"\n",
    "        neg_col = f\"{keyword}_neg\"\n",
    "        \n",
    "        pos_count = counts.get(pos_col, 0)\n",
    "        neg_count = counts.get(neg_col, 0)\n",
    "        \n",
    "        if pos_count + neg_count < threshold:\n",
    "            if pos_col in df.columns:\n",
    "                columns_to_drop.append(pos_col)\n",
    "            if neg_col in df.columns:\n",
    "                columns_to_drop.append(neg_col)\n",
    "    \n",
    "    return df.drop(columns=columns_to_drop), columns_to_drop\n",
    "\n",
    "# Drop features with less than 30 matches for keyword pairs\n",
    "threshold = 15\n",
    "result, dropped_columns = drop_sparse_features(new_matrix, threshold)"
   ]
  },
  {
   "cell_type": "code",
   "execution_count": 31,
   "metadata": {},
   "outputs": [
    {
     "name": "stdout",
     "output_type": "stream",
     "text": [
      "['paralysis agitans_pos', 'paralysis agitans_neg', 'primary parkinsonism_pos', 'primary parkinsonism_neg', 'pdd_pos', 'pdd_neg', 'alien limb_pos', 'alien limb_neg', 'alpha synuclein_pos', 'alpha synuclein_neg', 'anticholinergic side effect_pos', 'anticholinergic side effect_neg', 'blepharospasm_pos', 'blepharospasm_neg', 'bradyphasia_pos', 'bradyphasia_neg', 'bradyphonia_pos', 'bradyphonia_neg', 'camptocormia_pos', 'camptocormia_neg', 'corticobasal_pos', 'corticobasal_neg', 'daws_pos', 'daws_neg', 'gba_pos', 'gba_neg', 'globus_pos', 'globus_neg', 'dat spect_pos', 'dat spect_neg', 'datscan_pos', 'datscan_neg', 'lrrk2_pos', 'lrrk2_neg', 'snca_pos', 'snca_neg', 'prkn_pos', 'prkn_neg', 'pink1_pos', 'pink1_neg', 'dj-1_pos', 'dj-1_neg', 'gba_pos', 'gba_neg', 'vps35_pos', 'vps35_neg', 'atp13a2_pos', 'atp13a2_neg', 'lrrk1_pos', 'lrrk1_neg', 'uchl1_pos', 'uchl1_neg', 'mao-b_pos', 'mao-b_neg', 'monoamine oxidase b inhibitor_pos', 'monoamine oxidase b inhibitor_neg', 'medullary_pos', 'medullary_neg', 'montreal cognitive assessment_pos', 'montreal cognitive assessment_neg', 'nigra pars compacta_pos', 'nigra pars compacta_neg', 'nigrostriatal_pos', 'nigrostriatal_neg', 'ocular torticollis_pos', 'ocular torticollis_neg', 'orofacial_pos', 'orofacial_neg', 'pallidotomy_pos', 'pallidotomy_neg', 'pallidothalamic_pos', 'pallidothalamic_neg', 'postencephalitic_pos', 'postencephalitic_neg', 'primary progressive aphasia_pos', 'primary progressive aphasia_neg', 'ppa_pos', 'ppa_neg', 'pyramidal_pos', 'pyramidal_neg', 'rbd_pos', 'rbd_neg', 'spasmodic_pos', 'spasmodic_neg', 'subthalamic nucleus_pos', 'subthalamic nucleus_neg', 'striatal dopamine deficiency_pos', 'striatal dopamine deficiency_neg', 'tetany_pos', 'tetany_neg', 'thalamotomy_pos', 'thalamotomy_neg', 'toronto cognitive assessment_pos', 'toronto cognitive assessment_neg', 'torca_pos', 'torca_neg', 'dosage adjustment_pos', 'dosage adjustment_neg', 'physiotherapy_pos', 'physiotherapy_neg', 'regular follow-up_pos', 'regular follow-up_neg', 'bone health_pos', 'bone health_neg', 'pulmonary complication_pos', 'pulmonary complication_neg']\n",
      "      BDSPPatientID  CreateDate hospital  parkinson disease_pos  pd_pos  \\\n",
      "0         150709433  2017-10-23    BIDMC                      0       0   \n",
      "1         150669096  2022-03-09    BIDMC                      0       0   \n",
      "2         151275717  2018-05-01    BIDMC                      0       0   \n",
      "3         151013494  2021-06-09    BIDMC                      0       0   \n",
      "4         150642824  2021-11-24    BIDMC                      0       0   \n",
      "...             ...         ...      ...                    ...     ...   \n",
      "3822      119272633  2022-07-07      MGB                      1       0   \n",
      "3823      113316634  2021-11-08      MGB                      0       0   \n",
      "3824      116513628  2021-10-03      MGB                      1       0   \n",
      "3825      119530902  2022-06-04      MGB                      0       1   \n",
      "3826      120000076  2022-03-21      MGB                      0       1   \n",
      "\n",
      "      parkinson_pos  parkinsonismx_pos  disease_pos  akathisia_pos  \\\n",
      "0                 0                  0            1              0   \n",
      "1                 0                  0            0              0   \n",
      "2                 0                  0            1              0   \n",
      "3                 0                  0            0              0   \n",
      "4                 0                  0            0              0   \n",
      "...             ...                ...          ...            ...   \n",
      "3822              1                  0            1              0   \n",
      "3823              0                  0            0              0   \n",
      "3824              1                  0            1              0   \n",
      "3825              0                  0            1              0   \n",
      "3826              0                  0            1              0   \n",
      "\n",
      "      anosmia_pos  ...  exelon patch_neg  exelon_neg  cane_neg  fall_neg  \\\n",
      "0               0  ...                 0           0         0         0   \n",
      "1               0  ...                 0           0         0         0   \n",
      "2               0  ...                 0           0         0         1   \n",
      "3               0  ...                 0           0         0         0   \n",
      "4               0  ...                 0           0         0         0   \n",
      "...           ...  ...               ...         ...       ...       ...   \n",
      "3822            0  ...                 0           0         0         0   \n",
      "3823            0  ...                 0           0         0         0   \n",
      "3824            0  ...                 0           0         0         0   \n",
      "3825            0  ...                 0           0         0         0   \n",
      "3826            0  ...                 0           0         0         0   \n",
      "\n",
      "      deep brain stimulation_neg  dbs_neg  bradykinesia_neg  hypokinesia_neg  \\\n",
      "0                              0        0                 0                0   \n",
      "1                              0        0                 0                0   \n",
      "2                              0        0                 0                0   \n",
      "3                              0        0                 0                0   \n",
      "4                              0        0                 0                0   \n",
      "...                          ...      ...               ...              ...   \n",
      "3822                           0        0                 0                0   \n",
      "3823                           0        0                 0                0   \n",
      "3824                           0        0                 0                0   \n",
      "3825                           0        0                 0                0   \n",
      "3826                           0        0                 0                0   \n",
      "\n",
      "      dementia_neg  pneumonia_neg  \n",
      "0                0              0  \n",
      "1                0              0  \n",
      "2                0              0  \n",
      "3                0              0  \n",
      "4                0              0  \n",
      "...            ...            ...  \n",
      "3822             0              0  \n",
      "3823             0              0  \n",
      "3824             0              0  \n",
      "3825             0              0  \n",
      "3826             0              0  \n",
      "\n",
      "[3827 rows x 211 columns]\n",
      "['BDSPPatientID', 'CreateDate', 'hospital', 'parkinson disease_pos', 'pd_pos', 'parkinson_pos', 'parkinsonismx_pos', 'disease_pos', 'akathisia_pos', 'anosmia_pos', 'apraxia_pos', 'autonomic_pos', 'axial_pos', 'basophilic_pos', 'bradyphrenia_pos', 'cholinergic_pos', 'cogwheel_pos', 'cognitive impairment_pos', 'denervation_pos', 'dopamine_pos', 'dopamine agonist_pos', 'dysphagia_pos', 'dysphonia_pos', 'dystonia_pos', 'facial_pos', 'fasciculation_pos', 'gait_pos', 'festinating_pos', 'shuffling_pos', 'freezing_pos', 'hyposmia_pos', 'hyperreflexia_pos', 'hypokinetic_pos', 'hypomimia_pos', 'hypophonia_pos', 'idiopathic_pos', 'imaging_pos', 'dat_pos', 'mri_pos', 'scan_pos', 'masked facies_pos', 'micrographia_pos', 'mild cognitive impairment_pos', 'mci_pos', 'moca_pos', 'movement disorder_pos', 'multiple system atrophy_pos', 'msa_pos', 'occupational therapy_pos', 'orthostatic_pos', 'palliative_pos', 'paratonia_pos', 'pathology_pos', 'pet_pos', 'physical therapy_pos', 'posture_pos', 'prodrome_pos', 'progressive supranuclear palsy_pos', 'psp_pos', 'rem sleep behavior disorder_pos', 'restless legs_pos', 'saccade_pos', 'sialorrhea_pos', 'speech therapy_pos', 'stooped_pos', 'stn_pos', 'stiff_pos', 'rigidity_pos', 'subcortical_pos', 'supranuclear_pos', 'swallowing_pos', 'tics_pos', 'tremor_pos', 'uptake_pos', 'vascular_pos', 'nausea_pos', 'hallucination_pos', 'constipation_pos', 'fatigue_pos', 'insomnia_pos', 'depression_pos', 'anxiety_pos', 'psychosis_pos', 'lifestyle changes_pos', 'support group_pos', 'caregiver_pos', 'medication adherence_pos', 'prescription refill_pos', 'fall precaution_pos', 'daily function_pos', 'self care_pos', 'quality of life_pos', 'disease progression_pos', 'exercise_pos', 'sleep hygiene_pos', 'care coordination_pos', 'shuffling gait_pos', 'exelon patch_pos', 'exelon_pos', 'cane_pos', 'fall_pos', 'deep brain stimulation_pos', 'dbs_pos', 'bradykinesia_pos', 'hypokinesia_pos', 'dementia_pos', 'pneumonia_pos', 'parkinson disease_neg', 'pd_neg', 'parkinson_neg', 'parkinsonismx_neg', 'disease_neg', 'akathisia_neg', 'anosmia_neg', 'apraxia_neg', 'autonomic_neg', 'axial_neg', 'basophilic_neg', 'bradyphrenia_neg', 'cholinergic_neg', 'cogwheel_neg', 'cognitive impairment_neg', 'denervation_neg', 'dopamine_neg', 'dopamine agonist_neg', 'dysphagia_neg', 'dysphonia_neg', 'dystonia_neg', 'facial_neg', 'fasciculation_neg', 'gait_neg', 'festinating_neg', 'shuffling_neg', 'freezing_neg', 'hyposmia_neg', 'hyperreflexia_neg', 'hypokinetic_neg', 'hypomimia_neg', 'hypophonia_neg', 'idiopathic_neg', 'imaging_neg', 'dat_neg', 'mri_neg', 'scan_neg', 'masked facies_neg', 'micrographia_neg', 'mild cognitive impairment_neg', 'mci_neg', 'moca_neg', 'movement disorder_neg', 'multiple system atrophy_neg', 'msa_neg', 'occupational therapy_neg', 'orthostatic_neg', 'palliative_neg', 'paratonia_neg', 'pathology_neg', 'pet_neg', 'physical therapy_neg', 'posture_neg', 'prodrome_neg', 'progressive supranuclear palsy_neg', 'psp_neg', 'rem sleep behavior disorder_neg', 'restless legs_neg', 'saccade_neg', 'sialorrhea_neg', 'speech therapy_neg', 'stooped_neg', 'stn_neg', 'stiff_neg', 'rigidity_neg', 'subcortical_neg', 'supranuclear_neg', 'swallowing_neg', 'tics_neg', 'tremor_neg', 'uptake_neg', 'vascular_neg', 'nausea_neg', 'hallucination_neg', 'constipation_neg', 'fatigue_neg', 'insomnia_neg', 'depression_neg', 'anxiety_neg', 'psychosis_neg', 'lifestyle changes_neg', 'support group_neg', 'caregiver_neg', 'medication adherence_neg', 'prescription refill_neg', 'fall precaution_neg', 'daily function_neg', 'self care_neg', 'quality of life_neg', 'disease progression_neg', 'exercise_neg', 'sleep hygiene_neg', 'care coordination_neg', 'shuffling gait_neg', 'exelon patch_neg', 'exelon_neg', 'cane_neg', 'fall_neg', 'deep brain stimulation_neg', 'dbs_neg', 'bradykinesia_neg', 'hypokinesia_neg', 'dementia_neg', 'pneumonia_neg']\n"
     ]
    }
   ],
   "source": [
    "print(dropped_columns)\n",
    "print(result)\n",
    "print(list(result.columns))"
   ]
  },
  {
   "cell_type": "code",
   "execution_count": null,
   "metadata": {},
   "outputs": [],
   "source": []
  },
  {
   "cell_type": "code",
   "execution_count": 32,
   "metadata": {},
   "outputs": [
    {
     "name": "stdout",
     "output_type": "stream",
     "text": [
      "['paralysis agitans_pos', 'paralysis agitans_neg', 'primary parkinsonism_pos', 'primary parkinsonism_neg', 'pdd_pos', 'pdd_neg', 'alien limb_pos', 'alien limb_neg', 'alpha synuclein_pos', 'alpha synuclein_neg', 'anticholinergic side effect_pos', 'anticholinergic side effect_neg', 'blepharospasm_pos', 'blepharospasm_neg', 'bradyphasia_pos', 'bradyphasia_neg', 'bradyphonia_pos', 'bradyphonia_neg', 'camptocormia_pos', 'camptocormia_neg', 'corticobasal_pos', 'corticobasal_neg', 'daws_pos', 'daws_neg', 'gba_pos', 'gba_neg', 'globus_pos', 'globus_neg', 'dat spect_pos', 'dat spect_neg', 'datscan_pos', 'datscan_neg', 'lrrk2_pos', 'lrrk2_neg', 'snca_pos', 'snca_neg', 'prkn_pos', 'prkn_neg', 'pink1_pos', 'pink1_neg', 'dj-1_pos', 'dj-1_neg', 'gba_pos', 'gba_neg', 'vps35_pos', 'vps35_neg', 'atp13a2_pos', 'atp13a2_neg', 'lrrk1_pos', 'lrrk1_neg', 'uchl1_pos', 'uchl1_neg', 'mao-b_pos', 'mao-b_neg', 'monoamine oxidase b inhibitor_pos', 'monoamine oxidase b inhibitor_neg', 'medullary_pos', 'medullary_neg', 'montreal cognitive assessment_pos', 'montreal cognitive assessment_neg', 'nigra pars compacta_pos', 'nigra pars compacta_neg', 'nigrostriatal_pos', 'nigrostriatal_neg', 'ocular torticollis_pos', 'ocular torticollis_neg', 'orofacial_pos', 'orofacial_neg', 'pallidotomy_pos', 'pallidotomy_neg', 'pallidothalamic_pos', 'pallidothalamic_neg', 'postencephalitic_pos', 'postencephalitic_neg', 'primary progressive aphasia_pos', 'primary progressive aphasia_neg', 'ppa_pos', 'ppa_neg', 'pyramidal_pos', 'pyramidal_neg', 'rbd_pos', 'rbd_neg', 'spasmodic_pos', 'spasmodic_neg', 'subthalamic nucleus_pos', 'subthalamic nucleus_neg', 'striatal dopamine deficiency_pos', 'striatal dopamine deficiency_neg', 'tetany_pos', 'tetany_neg', 'thalamotomy_pos', 'thalamotomy_neg', 'toronto cognitive assessment_pos', 'toronto cognitive assessment_neg', 'torca_pos', 'torca_neg', 'dosage adjustment_pos', 'dosage adjustment_neg', 'physiotherapy_pos', 'physiotherapy_neg', 'regular follow-up_pos', 'regular follow-up_neg', 'bone health_pos', 'bone health_neg', 'pulmonary complication_pos', 'pulmonary complication_neg']\n"
     ]
    }
   ],
   "source": [
    "print(list(dropped_columns))"
   ]
  },
  {
   "cell_type": "code",
   "execution_count": 33,
   "metadata": {},
   "outputs": [
    {
     "name": "stdout",
     "output_type": "stream",
     "text": [
      "67\n"
     ]
    }
   ],
   "source": [
    "print(result['parkinson_neg'].sum())"
   ]
  },
  {
   "cell_type": "code",
   "execution_count": 34,
   "metadata": {},
   "outputs": [
    {
     "name": "stdout",
     "output_type": "stream",
     "text": [
      "Index(['BDSPPatientID', 'CreateDate', 'hospital', 'parkinson disease_pos',\n",
      "       'pd_pos', 'parkinson_pos', 'parkinsonismx_pos', 'disease_pos',\n",
      "       'akathisia_pos', 'anosmia_pos',\n",
      "       ...\n",
      "       'exelon patch_neg', 'exelon_neg', 'cane_neg', 'fall_neg',\n",
      "       'deep brain stimulation_neg', 'dbs_neg', 'bradykinesia_neg',\n",
      "       'hypokinesia_neg', 'dementia_neg', 'pneumonia_neg'],\n",
      "      dtype='object', length=211)\n"
     ]
    }
   ],
   "source": [
    "print(result.columns)"
   ]
  },
  {
   "cell_type": "code",
   "execution_count": 35,
   "metadata": {},
   "outputs": [],
   "source": [
    "result.to_csv('feat_matrix_dropped.csv', index=False)"
   ]
  }
 ],
 "metadata": {
  "kernelspec": {
   "display_name": "bramenv",
   "language": "python",
   "name": "python3"
  },
  "language_info": {
   "codemirror_mode": {
    "name": "ipython",
    "version": 3
   },
   "file_extension": ".py",
   "mimetype": "text/x-python",
   "name": "python",
   "nbconvert_exporter": "python",
   "pygments_lexer": "ipython3",
   "version": "3.10.12"
  }
 },
 "nbformat": 4,
 "nbformat_minor": 2
}
