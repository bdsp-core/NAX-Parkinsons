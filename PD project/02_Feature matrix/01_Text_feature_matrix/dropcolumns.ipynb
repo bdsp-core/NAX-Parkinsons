{
 "cells": [
  {
   "cell_type": "code",
   "execution_count": null,
   "metadata": {},
   "outputs": [],
   "source": [
    "import pandas as pd\n"
   ]
  },
  {
   "cell_type": "code",
   "execution_count": null,
   "metadata": {},
   "outputs": [],
   "source": [
    "annotations=pd.read_csv('/home/bram/Project_PD/PD project/Feature matrix/all_notes_annotations/full_annotations_ordered2.csv')\n",
    "print(annotations)"
   ]
  },
  {
   "cell_type": "code",
   "execution_count": null,
   "metadata": {},
   "outputs": [],
   "source": []
  },
  {
   "cell_type": "code",
   "execution_count": null,
   "metadata": {},
   "outputs": [],
   "source": [
    "new_matrix= pd.read_csv('/home/bram/Project_PD/PD project/Feature matrix/01_Text_feature_matrix/FEATMATRIX_TEXT.csv')\n",
    "print(new_matrix)"
   ]
  },
  {
   "cell_type": "code",
   "execution_count": null,
   "metadata": {},
   "outputs": [],
   "source": [
    "keywords_list = [\"parkinson disease\", \"pd\", \"parkinson\", 'parkinsonismx', \"disease\", \"paralysis agitans\", \"primary parkinsonism\", \n",
    "    \"pdd\", \"akathisia\", \"alien limb\", \"alpha synuclein\", \"anosmia\", \"anticholinergic side effect\", \n",
    "    \"apraxia\", \"autonomic\", \"axial\", \"basophilic\", \"blepharospasm\", \"bradyphasia\", \"bradyphonia\", \n",
    "    \"bradyphrenia\", \"camptocormia\", \"cholinergic\", \"cogwheel\", \"cognitive impairment\", \"corticobasal\", \n",
    "    \"daws\", \"denervation\", \"dopamine\", \"dopamine agonist\", \"dysphagia\", \"dysphonia\", \"dystonia\", \n",
    "    \"facial\", \"fasciculation\", \"gba\", \"gait\", \"festinating\", \"shuffling\", \"freezing\", \"globus\", \n",
    "    \"hyposmia\", \"hyperreflexia\", \"hypokinetic\", \"hypomimia\", \"hypophonia\", \"idiopathic\", \"imaging\", \n",
    "    \"dat spect\", \"datscan\", \"dat\", \"mri\", \"scan\", \"lrrk2\", \"snca\", \"prkn\", \"pink1\", \"dj-1\", \"gba\", \n",
    "    \"vps35\", \"atp13a2\", \"lrrk1\", \"uchl1\", \"mao-b\", \"monoamine oxidase b inhibitor\", \"masked facies\", \n",
    "    \"medullary\", \"micrographia\", \"mild cognitive impairment\", \"mci\", \"montreal cognitive assessment\", \n",
    "    \"moca\", \"movement disorder\", \"multiple system atrophy\", \"msa\", \"nigra pars compacta\", \"nigrostriatal\", \n",
    "    \"ocular torticollis\", \"occupational therapy\", \"orthostatic\", \"orofacial\", \"pallidotomy\", \n",
    "    \"pallidothalamic\", \"palliative\", \"paratonia\", \"pathology\", \"pet\", \"physical therapy\", \"postencephalitic\", \n",
    "    \"posture\", \"primary progressive aphasia\", \"ppa\", \"prodrome\", \"progressive supranuclear palsy\", \n",
    "    \"psp\", \"pyramidal\", \"rem sleep behavior disorder\", \"rbd\", \"restless legs\", \"saccade\", \"sialorrhea\", \n",
    "    \"speech therapy\", \"spasmodic\", \"stooped\", \"subthalamic nucleus\", \"stn\", \"striatal dopamine deficiency\", \n",
    "    \"stiff\", \"rigidity\", \"subcortical\", \"supranuclear\", \"swallowing\", \"tetany\", \"thalamotomy\", \"tics\", \"toronto cognitive assessment\", \"torca\", \"tremor\", \"uptake\", \"vascular\", \"nausea\", \n",
    "    \"hallucination\", \"constipation\", \"fatigue\", \"insomnia\", \"depression\", \"anxiety\", \"psychosis\", \n",
    "    \"dosage adjustment\", \"physiotherapy\", \"lifestyle changes\", \"support group\", \"caregiver\", \n",
    "    \"medication adherence\", \"prescription refill\", \"fall precaution\", \"daily function\", \"self care\", \n",
    "    \"quality of life\", \"disease progression\", \"regular follow-up\", \"exercise\", \"sleep hygiene\", \n",
    "    \"bone health\", \"care coordination\", \"shuffling gait\", \"exelon patch\", \"exelon\", \"cane\", \"fall\", \n",
    "    \"deep brain stimulation\", \"dbs\", \"bradykinesia\", \"hypokinesia\", \"dementia\", \"pulmonary complication\", \n",
    "    \"pneumonia\"]\n",
    "\n"
   ]
  },
  {
   "cell_type": "code",
   "execution_count": null,
   "metadata": {},
   "outputs": [],
   "source": [
    "def drop_sparse_features(df, threshold):\n",
    "    counts = df.iloc[:, 3:].sum()  # Exclude the 'text' column from counting\n",
    "    columns_to_drop = []\n",
    "\n",
    "    for keyword in keywords_list:\n",
    "        pos_col = f\"{keyword}_pos\"\n",
    "        neg_col = f\"{keyword}_neg\"\n",
    "        \n",
    "        pos_count = counts.get(pos_col, 0)\n",
    "        neg_count = counts.get(neg_col, 0)\n",
    "        \n",
    "        if pos_count + neg_count < threshold:\n",
    "            if pos_col in df.columns:\n",
    "                columns_to_drop.append(pos_col)\n",
    "            if neg_col in df.columns:\n",
    "                columns_to_drop.append(neg_col)\n",
    "    \n",
    "    return df.drop(columns=columns_to_drop), columns_to_drop\n",
    "\n",
    "# Drop features with less than 30 matches for keyword pairs\n",
    "threshold = 15\n",
    "result, dropped_columns = drop_sparse_features(new_matrix, threshold)"
   ]
  },
  {
   "cell_type": "code",
   "execution_count": null,
   "metadata": {},
   "outputs": [],
   "source": [
    "print(dropped_columns)\n",
    "print(result)\n",
    "print(list(result.columns))"
   ]
  },
  {
   "cell_type": "code",
   "execution_count": null,
   "metadata": {},
   "outputs": [],
   "source": []
  },
  {
   "cell_type": "code",
   "execution_count": null,
   "metadata": {},
   "outputs": [],
   "source": [
    "print(list(dropped_columns))"
   ]
  },
  {
   "cell_type": "code",
   "execution_count": null,
   "metadata": {},
   "outputs": [],
   "source": [
    "print(result['parkinson_neg'].sum())"
   ]
  },
  {
   "cell_type": "code",
   "execution_count": null,
   "metadata": {},
   "outputs": [],
   "source": [
    "print(result.columns)"
   ]
  },
  {
   "cell_type": "code",
   "execution_count": null,
   "metadata": {},
   "outputs": [],
   "source": [
    "result.to_csv('feat_matrix_dropped.csv', index=False)"
   ]
  }
 ],
 "metadata": {
  "kernelspec": {
   "display_name": "bramenv",
   "language": "python",
   "name": "python3"
  },
  "language_info": {
   "codemirror_mode": {
    "name": "ipython",
    "version": 3
   },
   "file_extension": ".py",
   "mimetype": "text/x-python",
   "name": "python",
   "nbconvert_exporter": "python",
   "pygments_lexer": "ipython3",
   "version": "3.10.12"
  }
 },
 "nbformat": 4,
 "nbformat_minor": 2
}
