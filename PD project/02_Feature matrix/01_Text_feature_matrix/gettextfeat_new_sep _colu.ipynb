{
 "cells": [
  {
   "cell_type": "code",
   "execution_count": null,
   "metadata": {},
   "outputs": [],
   "source": [
    "import pandas as pd\n",
    "\n",
    "df=pd.read_csv('/home/bram/Project_PD/PD project/Feature matrix/all_notes_annotations/ALLHOSPITALS_NEW_DATA.csv')\n",
    "print(len(df))\n",
    "print(df.columns)\n",
    "print(df['BDSPPatientID'].nunique())\n",
    "\n",
    "print(len(df))\n",
    "print(df.columns)\n",
    "print(df)\n",
    "\n",
    "import pandas as pd\n",
    "import re\n",
    "import nltk\n",
    "from nltk.stem import SnowballStemmer\n",
    "\n",
    "# Ensure you have the necessary nltk resources\n",
    "nltk.download('punkt')\n",
    "\n",
    "# Initialize the Snowball Stemmer for English\n",
    "stemmer = SnowballStemmer(\"english\")\n",
    "\n",
    "\n",
    "\n",
    "keywords = [\n",
    "    \"parkinson disease\", \"pd\", \"parkinson\", 'parkinsonismx', \"disease\", \"paralysis agitans\", \"primary parkinsonism\", \n",
    "    \"pdd\", \"akathisia\", \"alien limb\", \"alpha synuclein\", \"anosmia\", \"anticholinergic side effect\", \n",
    "    \"apraxia\", \"autonomic\", \"axial\", \"basophilic\", \"blepharospasm\", \"bradyphasia\", \"bradyphonia\", \n",
    "    \"bradyphrenia\", \"camptocormia\", \"cholinergic\", \"cogwheel\", \"cognitive impairment\", \"corticobasal\", \n",
    "    \"daws\", \"denervation\", \"dopamine\", \"dopamine agonist\", \"dysphagia\", \"dysphonia\", \"dystonia\", \n",
    "    \"facial\", \"fasciculation\", \"gba\", \"gait\", \"festinating\", \"shuffling\", \"freezing\", \"globus\", \n",
    "    \"hyposmia\", \"hyperreflexia\", \"hypokinetic\", \"hypomimia\", \"hypophonia\", \"idiopathic\", \"imaging\", \n",
    "    \"dat spect\", \"datscan\", \"dat\", \"mri\", \"scan\", \"lrrk2\", \"snca\", \"prkn\", \"pink1\", \"dj-1\", \"gba\", \n",
    "    \"vps35\", \"atp13a2\", \"lrrk1\", \"uchl1\", \"mao-b\", \"monoamine oxidase b inhibitor\", \"masked facies\", \n",
    "    \"medullary\", \"micrographia\", \"mild cognitive impairment\", \"mci\", \"montreal cognitive assessment\", \n",
    "    \"moca\", \"movement disorder\", \"multiple system atrophy\", \"msa\", \"nigra pars compacta\", \"nigrostriatal\", \n",
    "    \"ocular torticollis\", \"occupational therapy\", \"orthostatic\", \"orofacial\", \"pallidotomy\", \n",
    "    \"pallidothalamic\", \"palliative\", \"paratonia\", \"pathology\", \"pet\", \"physical therapy\", \"postencephalitic\", \n",
    "    \"posture\", \"primary progressive aphasia\", \"ppa\", \"prodrome\", \"progressive supranuclear palsy\", \n",
    "    \"psp\", \"pyramidal\", \"rem sleep behavior disorder\", \"rbd\", \"restless legs\", \"saccade\", \"sialorrhea\", \n",
    "    \"speech therapy\", \"spasmodic\", \"stooped\", \"subthalamic nucleus\", \"stn\", \"striatal dopamine deficiency\", \n",
    "    \"stiff\", \"rigidity\", \"subcortical\", \"supranuclear\", \"swallowing\", \"tetany\", \"thalamotomy\", \"tics\", \"toronto cognitive assessment\", \"torca\", \"tremor\", \"uptake\", \"vascular\", \"nausea\", \n",
    "    \"hallucination\", \"constipation\", \"fatigue\", \"insomnia\", \"depression\", \"anxiety\", \"psychosis\", \n",
    "    \"dosage adjustment\", \"physiotherapy\", \"lifestyle changes\", \"support group\", \"caregiver\", \n",
    "    \"medication adherence\", \"prescription refill\", \"fall precaution\", \"daily function\", \"self care\", \n",
    "    \"quality of life\", \"disease progression\", \"regular follow-up\", \"exercise\", \"sleep hygiene\", \n",
    "    \"bone health\", \"care coordination\", \"shuffling gait\", \"exelon patch\", \"exelon\", \"cane\", \"fall\", \n",
    "    \"deep brain stimulation\", \"dbs\", \"bradykinesia\", \"hypokinesia\", \"dementia\", \"pulmonary complication\", \n",
    "    \"pneumonia\"\n",
    "]\n",
    "\n"
   ]
  },
  {
   "cell_type": "code",
   "execution_count": null,
   "metadata": {},
   "outputs": [],
   "source": [
    "nltk.download('punkt_tab')"
   ]
  },
  {
   "cell_type": "code",
   "execution_count": null,
   "metadata": {},
   "outputs": [],
   "source": [
    "\n",
    "# Function to stem each word in a phrase\n",
    "def stem_phrase(phrase, stemmer):\n",
    "    tokens = nltk.word_tokenize(phrase)\n",
    "    return ' '.join([stemmer.stem(token) for token in tokens])\n",
    "\n"
   ]
  },
  {
   "cell_type": "code",
   "execution_count": null,
   "metadata": {},
   "outputs": [],
   "source": [
    "# Generate regex patterns\n",
    "def generate_patterns(keywords):\n",
    "    neg_patterns = {}\n",
    "    pos_patterns = {}\n",
    "    for phrase in keywords:\n",
    "        stemmed_phrase = stem_phrase(phrase, stemmer)\n",
    "        words = stemmed_phrase.split()\n",
    "        neg_pattern = r\"(?:(?:\\bno\\b|\\bnot\\b|n't|absent|negat)[^,.]{{0,30}}\\b{pattern})\\b|\\b(?:{pattern}\\b[^.]{{0,40}}(?:absent|negat))\".format(\n",
    "            pattern= r''.join([f\"{word}\\s*\" for word in words]) #+ r\"\\b\"\n",
    "        )\n",
    "        neg_patterns[phrase] = neg_pattern\n",
    "        pos_patterns[phrase] = r\"\\b\" + r\"\".join([f\"{word}\\s*\" for word in words]) + r\"\\b\" \n",
    "    return neg_patterns, pos_patterns\n",
    "\n",
    "neg_patterns, pos_patterns = generate_patterns(keywords)"
   ]
  },
  {
   "cell_type": "code",
   "execution_count": null,
   "metadata": {},
   "outputs": [],
   "source": [
    "# Print generated patterns for verification\n",
    "print(\"Negated Patterns:\")\n",
    "for key, pattern in neg_patterns.items():\n",
    "    print(f\"{key}: {pattern}\")\n",
    "\n",
    "print(\"\\nPositive Patterns:\")\n",
    "for key, pattern in pos_patterns.items():\n",
    "    print(f\"{key}: {pattern}\")\n",
    "\n",
    "# Function to preprocess text (lowercase, stemming using NLTK)\n",
    "\n",
    "def preprocess_text(text):\n",
    "    text = text.lower()  # Convert text to lowercase\n",
    "    text = re.sub(r\"\\b[a-z]*parkinsonism[a-z]*\\b\", \"parkinsonismx\", text)  # Replace words containing 'parkinsonism'\n",
    "    # print (text)\n",
    "    tokens = nltk.word_tokenize(text)\n",
    "    stemmed_tokens = [stemmer.stem(token) for token in tokens if token != \"'s\"]\n",
    "    return ' '.join(stemmed_tokens)\n",
    "\n",
    "\n",
    "\n"
   ]
  },
  {
   "cell_type": "code",
   "execution_count": null,
   "metadata": {},
   "outputs": [],
   "source": [
    "def check_patterns(text, neg_patterns, pos_patterns):\n",
    "    matches = {f\"{key}_pos\": 0 for key in pos_patterns}\n",
    "    matches.update({f\"{key}_neg\": 0 for key in neg_patterns})\n",
    "\n",
    "    for key in pos_patterns:\n",
    "        pos_matches = [(m.start(), m.end()) for m in re.finditer(pos_patterns[key], text)]\n",
    "        neg_matches = [(m.start(), m.end()) for m in re.finditer(neg_patterns[key], text)]\n",
    "\n",
    "        for start, end in pos_matches:\n",
    "            if not any(n_start <= start <= n_end or n_start <= end <= n_end for n_start, n_end in neg_matches):\n",
    "                matches[f\"{key}_pos\"] = 1\n",
    "\n",
    "        for start, end in neg_matches:\n",
    "            matches[f\"{key}_neg\"] = 1\n",
    "\n",
    "    return matches"
   ]
  },
  {
   "cell_type": "code",
   "execution_count": null,
   "metadata": {},
   "outputs": [],
   "source": [
    "# Apply preprocessing and pattern checking to each note\n",
    "df['processed_note'] = df['note_text'].apply(preprocess_text)\n",
    "\n",
    "# Display the preprocessed notes for verification\n",
    "print(\"Preprocessed Notes:\")\n",
    "print(df['processed_note'])\n",
    "\n",
    "pattern_features = df['processed_note'].apply(lambda note_text: check_patterns(note_text, neg_patterns, pos_patterns))\n",
    "\n",
    "# Convert the pattern features to a DataFrame\n",
    "pattern_columns = pd.DataFrame(pattern_features.tolist())\n",
    "\n",
    "# Concatenate with the original DataFrame\n",
    "result = pd.concat([df[['BDSPPatientID', 'CreateDate', 'hospital']], pattern_columns], axis=1)\n",
    "\n",
    "# Display the result\n",
    "print(result)\n"
   ]
  },
  {
   "cell_type": "code",
   "execution_count": null,
   "metadata": {},
   "outputs": [],
   "source": [
    "result.to_csv('FEATMATRIX_TEXT.csv', index=False)"
   ]
  }
 ],
 "metadata": {
  "kernelspec": {
   "display_name": "bramenv",
   "language": "python",
   "name": "python3"
  },
  "language_info": {
   "codemirror_mode": {
    "name": "ipython",
    "version": 3
   },
   "file_extension": ".py",
   "mimetype": "text/x-python",
   "name": "python",
   "nbconvert_exporter": "python",
   "pygments_lexer": "ipython3",
   "version": "3.10.12"
  }
 },
 "nbformat": 4,
 "nbformat_minor": 2
}
