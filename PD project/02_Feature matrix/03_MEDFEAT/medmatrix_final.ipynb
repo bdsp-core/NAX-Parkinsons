{
 "cells": [
  {
   "cell_type": "code",
   "execution_count": null,
   "metadata": {},
   "outputs": [],
   "source": [
    "import pandas as pd\n",
    "import re\n",
    "pd.set_option('display.max_columns', None)\n"
   ]
  },
  {
   "cell_type": "code",
   "execution_count": null,
   "metadata": {},
   "outputs": [],
   "source": [
    "\n",
    "matrix_df=pd.read_csv('/home/bram/Project_PD/PD project/Feature matrix/02_ICD/matrix_incl_icd.csv')\n",
    "print(len(matrix_df))"
   ]
  },
  {
   "cell_type": "code",
   "execution_count": null,
   "metadata": {},
   "outputs": [],
   "source": [
    "print(matrix_df.head())"
   ]
  },
  {
   "cell_type": "code",
   "execution_count": null,
   "metadata": {},
   "outputs": [],
   "source": [
    "meds_df=pd.read_csv('/home/bram/Project_PD/PD project/Feature matrix/03_MEDFEAT/allmedication_new.csv')\n",
    "print(len(meds_df))\n",
    "print(meds_df.head())\n",
    "meds_df['medDate']=meds_df['CreateDate']\n"
   ]
  },
  {
   "cell_type": "code",
   "execution_count": null,
   "metadata": {},
   "outputs": [],
   "source": [
    "meds_df=meds_df.drop('CreateDate', axis=1)"
   ]
  },
  {
   "cell_type": "code",
   "execution_count": null,
   "metadata": {},
   "outputs": [],
   "source": [
    "print(meds_df.head())\n",
    "print(len(meds_df))"
   ]
  },
  {
   "cell_type": "code",
   "execution_count": null,
   "metadata": {},
   "outputs": [],
   "source": [
    "matrix_df['CreateDate']= pd.to_datetime(matrix_df['CreateDate'])\n",
    "meds_df['medDate'] = pd.to_datetime(meds_df['medDate'])\n",
    "# ICDs_STF['ICD Date'] = pd.to_datetime(ICDs_STF['CreateDate'])\n"
   ]
  },
  {
   "cell_type": "code",
   "execution_count": null,
   "metadata": {},
   "outputs": [],
   "source": [
    "\n",
    "\n",
    "# # Keep the original data in a separate column\n",
    "# meds_data['original_medDate'] = meds_data['medDate']\n",
    "# # Convert to datetime with errors='coerce'\n",
    "# meds_data['medDate'] = pd.to_datetime(meds_data['medDate'], errors='coerce')\n",
    "\n",
    "# # Filter rows where 'medDate' is NaT\n",
    "# coerced_entries = meds_data[meds_data['medDate'].isna()]\n",
    "\n",
    "# print(\"Coerced Entries:\")\n",
    "# print(coerced_entries)"
   ]
  },
  {
   "cell_type": "code",
   "execution_count": null,
   "metadata": {},
   "outputs": [],
   "source": [
    "\n",
    "# # Sample DataFrame for existing matrix with note dates and patient IDs\n",
    "# matrix_data = {\n",
    "#     'BDSPPatientID': [1, 2, 3, 4, 5, 6],\n",
    "#     'CreateDate': pd.to_datetime(['2021-01-15', '2021-05-20', '2021-03-10', '2021-08-25', '2021-11-05', '2021-11-05'])\n",
    "# }\n",
    "\n",
    "# matrix_df = pd.DataFrame(matrix_data)\n",
    "\n",
    "# # Sample DataFrame for medications with medication dates and patient IDs\n",
    "# meds_data = {\n",
    "#     'BDSPPatientID': [ 2, 2, 3, 3, 5, 5, 1],\n",
    "#     'medicationdescription': [\n",
    "#         'Levodopa', 'Dopamineagonists', 'Apomorphine', 'Rotigotine', 'Sinemet', 'Carbidopa', 'aaRopinirole'\n",
    "#     ],\n",
    "#     'medDate': pd.to_datetime(['2021-12-01', '2021-06-01', '2021-02-15', '2021-09-15', '2021-11-20', '2021-10-01', '2021-5-01'])\n",
    "# }\n",
    "\n",
    "# meds_df = pd.DataFrame(meds_data)\n",
    "\n",
    "# Merge the DataFrames on BDSPPatientID\n",
    "merged_df = pd.merge(matrix_df, meds_df, on='BDSPPatientID', how='left')\n",
    "\n",
    "# Check for date timeline\n",
    "merged_df['MedicationWithin6Months'] = merged_df.apply(\n",
    "    lambda row: (row['CreateDate'] >= row['medDate'] - pd.DateOffset(months=6)) and \n",
    "                (row['CreateDate'] <= row['medDate'] + pd.DateOffset(months=6)) if pd.notnull(row['medDate']) else False, axis=1)\n",
    "\n",
    "# Filter merged_df to include only rows where MedicationWithin6Months is True\n",
    "filtered_merged_df = merged_df[merged_df['MedicationWithin6Months']].copy()\n",
    "\n",
    "print('\\n filteMedicationWithin6Months column', merged_df['MedicationWithin6Months'])\n",
    "# Aggregate medication information per patient\n",
    "aggregated_meds = filtered_merged_df.groupby('BDSPPatientID')['medication'].apply(lambda x: ' '.join(x)).reset_index()\n",
    "\n",
    "# Merge aggregated medication information back with the matrix DataFrame\n",
    "matrix_merged_df = pd.merge(matrix_df, aggregated_meds, on='BDSPPatientID', how='left')\n",
    "\n",
    "# Generate regex patterns for the feature matrix\n",
    "def generate_patterns(medications):\n",
    "    patterns = {med: re.compile(rf\"{med}\", re.IGNORECASE) for med in medications}\n",
    "    return patterns\n",
    "\n",
    "medication_patterns = generate_patterns([\n",
    "    'Levodopa', 'Carbidopa', 'Dopamine', 'Dopamineagonists', 'Monoamineoxidase', 'Catechol-O-methyltransferase', \n",
    "    'Apomorphine', 'Rotigotine', 'Pramipexole', 'Ropinirole', 'Selegiline', 'Rasagiline', 'Entacapone', \n",
    "    'Tolcapone', 'Trihexyphenidyl', 'Benztropine', 'Amantadine', 'Stalevo', 'Neupro', 'Mirapex', 'Requip', \n",
    "    'Sinemet', 'Madopar', 'Comtan', 'Azilect', 'Eldepryl', 'Zelapar', 'Bromocriptine', 'Pergolide', \n",
    "    'Safinamide', 'Opicapone', 'Zonisamide', 'Duopa', 'Inbrija', 'Xadago', 'Nuplazid', 'Ongentys', 'Nourianz', \n",
    "    'RequipXL', 'Apokyn', 'Zydis', 'Tasmar', 'COMT', 'MAO', 'Istradefylline', 'Rytary'\n",
    "])\n",
    "\n",
    "# Function to check for the presence of medication patterns\n",
    "def check_medications(text, patterns):\n",
    "    matches = {med: 0 for med in patterns.keys()}  # Initialize matches dictionary with 0\n",
    "    if pd.notnull(text):\n",
    "        for med, pattern in patterns.items():\n",
    "            if pattern.search(text):\n",
    "                matches[med] = 1\n",
    "    return matches\n",
    "\n",
    "# Apply the pattern checking to the aggregated medication column\n",
    "matrix_merged_df['medication_features'] = matrix_merged_df['medication'].apply(lambda desc: check_medications(desc, medication_patterns) if pd.notnull(desc) else {med: 0 for med in medication_patterns.keys()})\n",
    "\n",
    "# Convert the medication features to a DataFrame\n",
    "medication_features_df = pd.DataFrame(matrix_merged_df['medication_features'].tolist())\n",
    "\n",
    "# Concatenate with the original matrix DataFrame, ensuring all rows are included\n",
    "result_df = pd.concat([matrix_df, medication_features_df], axis=1)\n",
    "\n",
    "# Remove any extra rows that were added during the merge\n",
    "result_df = result_df.dropna(subset=['BDSPPatientID']).reset_index(drop=True)\n",
    "\n",
    "# Display the result\n",
    "print(result_df)\n"
   ]
  },
  {
   "cell_type": "code",
   "execution_count": null,
   "metadata": {},
   "outputs": [],
   "source": [
    "sum_med=result_df['Istradefylline'].sum()\n",
    "print(sum_med)"
   ]
  },
  {
   "cell_type": "code",
   "execution_count": null,
   "metadata": {},
   "outputs": [],
   "source": [
    "# pseudo\n",
    "\n",
    "result_df.to_csv('finalmatrix.csv', index=False)"
   ]
  }
 ],
 "metadata": {
  "kernelspec": {
   "display_name": "bramenv",
   "language": "python",
   "name": "python3"
  },
  "language_info": {
   "codemirror_mode": {
    "name": "ipython",
    "version": 3
   },
   "file_extension": ".py",
   "mimetype": "text/x-python",
   "name": "python",
   "nbconvert_exporter": "python",
   "pygments_lexer": "ipython3",
   "version": "3.10.12"
  }
 },
 "nbformat": 4,
 "nbformat_minor": 2
}
