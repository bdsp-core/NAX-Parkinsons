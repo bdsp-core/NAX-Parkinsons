{
 "cells": [
  {
   "cell_type": "code",
   "execution_count": null,
   "metadata": {},
   "outputs": [],
   "source": [
    "import pandas as pd"
   ]
  },
  {
   "cell_type": "code",
   "execution_count": null,
   "metadata": {},
   "outputs": [],
   "source": [
    "# bidmc\n",
    "ICDs = pd.read_csv('/home/bram/Project_PD/PD project/Cohort construction/initial classification/MEDICDDATA POS/BIDMC_ICDPLUS.csv')"
   ]
  },
  {
   "cell_type": "code",
   "execution_count": null,
   "metadata": {},
   "outputs": [],
   "source": [
    "matrix=pd.read_csv('/home/bram/Project_PD/PD project/Feature matrix/01_Text_feature_matrix/feat_matrix_dropped.csv')"
   ]
  },
  {
   "cell_type": "code",
   "execution_count": null,
   "metadata": {},
   "outputs": [],
   "source": []
  },
  {
   "cell_type": "code",
   "execution_count": null,
   "metadata": {},
   "outputs": [],
   "source": [
    "print(len(matrix))\n",
    "print(matrix.columns)"
   ]
  },
  {
   "cell_type": "code",
   "execution_count": null,
   "metadata": {},
   "outputs": [],
   "source": [
    "print(ICDs.head())\n",
    "print(len(ICDs))"
   ]
  },
  {
   "cell_type": "code",
   "execution_count": null,
   "metadata": {},
   "outputs": [],
   "source": [
    "# import BIDMC \n",
    "\n",
    "# # example\n",
    "# ICDs = pd.read_csv('/home/cdac-c-15/Desktop/NAXCA/Cohort All Files/allICDCodesMGB.csv')\n",
    "# ICDs = ICDs[ICDs['BDSPPatientID'].isin(set(matrix['BDSPPatientID']))]\n",
    "# ICDs['ICD Date'] = pd.to_datetime(ICDs['ShiftedContactDTS']).dt.strftime('%Y-%m-%d')\n",
    "# ICDs['ICD Date'] = pd.to_datetime(ICDs['ICD Date'])\n",
    "# ICDs = ICDs[['BDSPPatientID', 'ICD Date']]\n",
    "# ICDs.head()\n",
    "\n",
    "ICDs = ICDs[ICDs['BDSPPatientID'].isin(set(matrix['BDSPPatientID']))]\n",
    "ICDs['ICD Date'] = pd.to_datetime(ICDs['CreateDate']).dt.strftime('%Y-%m-%d')\n",
    "# ICDs['ICD Date'] = pd.to_datetime(ICDs['ICD Date'])\n",
    "ICDs = ICDs[['BDSPPatientID', 'ICD Date']]\n",
    "ICDs.head()"
   ]
  },
  {
   "cell_type": "code",
   "execution_count": null,
   "metadata": {},
   "outputs": [],
   "source": [
    "print(ICDs['BDSPPatientID'].nunique())"
   ]
  },
  {
   "cell_type": "code",
   "execution_count": null,
   "metadata": {},
   "outputs": [],
   "source": [
    "print(len(ICDs))"
   ]
  },
  {
   "cell_type": "code",
   "execution_count": null,
   "metadata": {},
   "outputs": [],
   "source": [
    "ICDs_MGB = pd.read_csv('/home/bram/Project_PD/PD project/Cohort construction/initial classification/MEDICDDATA POS/MGB_ICDPLUS.csv')\n",
    "print(ICDs_MGB.head())\n",
    "print(len(ICDs_MGB))\n",
    "\n",
    "ICDs_MGB = ICDs_MGB[ICDs_MGB['BDSPPatientID'].isin(set(matrix['BDSPPatientID']))]\n",
    "ICDs_MGB['ICD Date'] = pd.to_datetime(ICDs_MGB['CreateDate']).dt.strftime('%Y-%m-%d')\n",
    "# ICDs['ICD Date'] = pd.to_datetime(ICDs['ICD Date'])\n",
    "ICDs_MGB = ICDs_MGB[['BDSPPatientID', 'ICD Date']]\n",
    "ICDs_MGB.head()\n",
    "print(len(ICDs_MGB))"
   ]
  },
  {
   "cell_type": "code",
   "execution_count": null,
   "metadata": {},
   "outputs": [],
   "source": [
    "print(ICDs_MGB.head())\n",
    "print(len(ICDs_MGB))\n",
    "print(ICDs_MGB['BDSPPatientID'].nunique()) #validated 964"
   ]
  },
  {
   "cell_type": "code",
   "execution_count": null,
   "metadata": {},
   "outputs": [],
   "source": [
    "ICDs_STF = pd.read_csv('/home/bram/Project_PD/PD project/Cohort construction/initial classification/MEDICDDATA POS/STF_ICDPLUS.csv')\n",
    "print(ICDs_STF.head())\n",
    "print(len(ICDs_STF))\n"
   ]
  },
  {
   "cell_type": "code",
   "execution_count": null,
   "metadata": {},
   "outputs": [],
   "source": [
    "ICDs_STF['BDSPPatientID']=ICDs_STF['bdsp_patient_id']\n",
    "print(ICDs_STF.head())"
   ]
  },
  {
   "cell_type": "code",
   "execution_count": null,
   "metadata": {},
   "outputs": [],
   "source": [
    "ICDs_STF = ICDs_STF[ICDs_STF['BDSPPatientID'].isin(set(matrix['BDSPPatientID']))]\n",
    "ICDs_STF['ICD Date'] = pd.to_datetime(ICDs_STF['CreateDate']).dt.strftime('%Y-%m-%d')\n",
    "# ICDs['ICD Date'] = pd.to_datetime(ICDs['ICD Date'])\n",
    "ICDs_STF = ICDs_STF[['BDSPPatientID', 'ICD Date']]\n",
    "ICDs_STF.head()\n",
    "print(len(ICDs_STF))"
   ]
  },
  {
   "cell_type": "code",
   "execution_count": null,
   "metadata": {},
   "outputs": [],
   "source": [
    "print(ICDs_STF['BDSPPatientID'].nunique())#validated icd+ are 363 patients\n",
    "print(ICDs_STF.head())"
   ]
  },
  {
   "cell_type": "code",
   "execution_count": null,
   "metadata": {},
   "outputs": [],
   "source": [
    "ICDs_compl=[ICDs,ICDs_STF ,ICDs_MGB]\n",
    "\n",
    "ICDs_complete=pd.concat(ICDs_compl, ignore_index=True)"
   ]
  },
  {
   "cell_type": "code",
   "execution_count": null,
   "metadata": {},
   "outputs": [],
   "source": [
    "print(ICDs_complete.head)\n",
    "print(len(ICDs_complete))\n",
    "print(ICDs_complete['BDSPPatientID'].nunique())"
   ]
  },
  {
   "cell_type": "code",
   "execution_count": null,
   "metadata": {},
   "outputs": [],
   "source": [
    "matrix['CreateDate']= pd.to_datetime(matrix['CreateDate']) \n",
    "ICDs_complete['ICD Date'] = pd.to_datetime(ICDs_complete['ICD Date'])"
   ]
  },
  {
   "cell_type": "code",
   "execution_count": null,
   "metadata": {},
   "outputs": [],
   "source": [
    "# add 1 or 0 to new column in matrix that denotes whether an icd is present +- 6 months from note creation date\n",
    "#merge the dfs on patient ID\n",
    "merged_df = pd.merge(matrix, ICDs_complete, on='BDSPPatientID')\n",
    "#check for date timeline\n",
    "merged_df['ICD'] = merged_df.apply(\n",
    "    lambda row: (row['CreateDate'] >= row['ICD Date'] - pd.DateOffset(months=6)) and \n",
    "                (row['CreateDate'] <= row['ICD Date'] + pd.DateOffset(months=6)), axis=1)\n",
    "matrix['ICD'] = matrix.apply(\n",
    "    lambda row: merged_df[(merged_df['BDSPPatientID'] == row['BDSPPatientID']) & merged_df['ICD']].shape[0] > 0, axis=1).astype(int)\n",
    "\n",
    "print(len(matrix))\n",
    "matrix.head()"
   ]
  },
  {
   "cell_type": "code",
   "execution_count": null,
   "metadata": {},
   "outputs": [],
   "source": [
    "print(matrix.sample(20))"
   ]
  },
  {
   "cell_type": "code",
   "execution_count": null,
   "metadata": {},
   "outputs": [],
   "source": [
    "matrix.to_csv('matrix_incl_icd.csv', index=False)"
   ]
  }
 ],
 "metadata": {
  "kernelspec": {
   "display_name": "bramenv",
   "language": "python",
   "name": "python3"
  },
  "language_info": {
   "codemirror_mode": {
    "name": "ipython",
    "version": 3
   },
   "file_extension": ".py",
   "mimetype": "text/x-python",
   "name": "python",
   "nbconvert_exporter": "python",
   "pygments_lexer": "ipython3",
   "version": "3.10.12"
  }
 },
 "nbformat": 4,
 "nbformat_minor": 2
}
