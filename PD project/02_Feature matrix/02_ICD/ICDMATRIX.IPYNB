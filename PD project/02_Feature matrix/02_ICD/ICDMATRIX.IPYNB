{
 "cells": [
  {
   "cell_type": "code",
   "execution_count": 1,
   "metadata": {},
   "outputs": [],
   "source": [
    "import pandas as pd"
   ]
  },
  {
   "cell_type": "code",
   "execution_count": 2,
   "metadata": {},
   "outputs": [],
   "source": [
    "# bidmc\n",
    "ICDs = pd.read_csv('/home/bram/Project_PD/PD project/Cohort construction/initial classification/MEDICDDATA POS/BIDMC_ICDPLUS.csv')"
   ]
  },
  {
   "cell_type": "code",
   "execution_count": 3,
   "metadata": {},
   "outputs": [],
   "source": [
    "matrix=pd.read_csv('/home/bram/Project_PD/PD project/Feature matrix/01_Text_feature_matrix/feat_matrix_dropped.csv')"
   ]
  },
  {
   "cell_type": "code",
   "execution_count": null,
   "metadata": {},
   "outputs": [],
   "source": []
  },
  {
   "cell_type": "code",
   "execution_count": 4,
   "metadata": {},
   "outputs": [
    {
     "name": "stdout",
     "output_type": "stream",
     "text": [
      "3827\n",
      "Index(['BDSPPatientID', 'CreateDate', 'hospital', 'parkinson disease_pos',\n",
      "       'pd_pos', 'parkinson_pos', 'parkinsonismx_pos', 'disease_pos',\n",
      "       'akathisia_pos', 'anosmia_pos',\n",
      "       ...\n",
      "       'exelon patch_neg', 'exelon_neg', 'cane_neg', 'fall_neg',\n",
      "       'deep brain stimulation_neg', 'dbs_neg', 'bradykinesia_neg',\n",
      "       'hypokinesia_neg', 'dementia_neg', 'pneumonia_neg'],\n",
      "      dtype='object', length=211)\n"
     ]
    }
   ],
   "source": [
    "print(len(matrix))\n",
    "print(matrix.columns)"
   ]
  },
  {
   "cell_type": "code",
   "execution_count": 5,
   "metadata": {},
   "outputs": [
    {
     "name": "stdout",
     "output_type": "stream",
     "text": [
      "   BDSPPatientID  DiagnosisSequenceNumber DiagnosisCode  CreateDate  \\\n",
      "0      150072288                        5          3320  2016-05-14   \n",
      "1      150072288                        5          3320  2016-05-14   \n",
      "2      150070124                        3          3320  2016-05-09   \n",
      "3      150073126                        1          3320  2016-09-06   \n",
      "4      150000169                        2          3320  2016-05-19   \n",
      "\n",
      "  DischargeDate  \n",
      "0    2016-05-15  \n",
      "1    2016-05-14  \n",
      "2    2016-05-09  \n",
      "3    2016-09-06  \n",
      "4    2016-05-19  \n",
      "32128\n"
     ]
    }
   ],
   "source": [
    "print(ICDs.head())\n",
    "print(len(ICDs))"
   ]
  },
  {
   "cell_type": "code",
   "execution_count": 6,
   "metadata": {},
   "outputs": [
    {
     "data": {
      "text/html": [
       "<div>\n",
       "<style scoped>\n",
       "    .dataframe tbody tr th:only-of-type {\n",
       "        vertical-align: middle;\n",
       "    }\n",
       "\n",
       "    .dataframe tbody tr th {\n",
       "        vertical-align: top;\n",
       "    }\n",
       "\n",
       "    .dataframe thead th {\n",
       "        text-align: right;\n",
       "    }\n",
       "</style>\n",
       "<table border=\"1\" class=\"dataframe\">\n",
       "  <thead>\n",
       "    <tr style=\"text-align: right;\">\n",
       "      <th></th>\n",
       "      <th>BDSPPatientID</th>\n",
       "      <th>ICD Date</th>\n",
       "    </tr>\n",
       "  </thead>\n",
       "  <tbody>\n",
       "    <tr>\n",
       "      <th>8</th>\n",
       "      <td>150001276</td>\n",
       "      <td>2016-05-18</td>\n",
       "    </tr>\n",
       "    <tr>\n",
       "      <th>9</th>\n",
       "      <td>150287462</td>\n",
       "      <td>2016-06-02</td>\n",
       "    </tr>\n",
       "    <tr>\n",
       "      <th>12</th>\n",
       "      <td>150001629</td>\n",
       "      <td>2016-05-02</td>\n",
       "    </tr>\n",
       "    <tr>\n",
       "      <th>13</th>\n",
       "      <td>150001629</td>\n",
       "      <td>2016-07-27</td>\n",
       "    </tr>\n",
       "    <tr>\n",
       "      <th>14</th>\n",
       "      <td>150001629</td>\n",
       "      <td>2016-08-10</td>\n",
       "    </tr>\n",
       "  </tbody>\n",
       "</table>\n",
       "</div>"
      ],
      "text/plain": [
       "    BDSPPatientID    ICD Date\n",
       "8       150001276  2016-05-18\n",
       "9       150287462  2016-06-02\n",
       "12      150001629  2016-05-02\n",
       "13      150001629  2016-07-27\n",
       "14      150001629  2016-08-10"
      ]
     },
     "execution_count": 6,
     "metadata": {},
     "output_type": "execute_result"
    }
   ],
   "source": [
    "# import BIDMC \n",
    "\n",
    "# # example\n",
    "# ICDs = pd.read_csv('/home/cdac-c-15/Desktop/NAXCA/Cohort All Files/allICDCodesMGB.csv')\n",
    "# ICDs = ICDs[ICDs['BDSPPatientID'].isin(set(matrix['BDSPPatientID']))]\n",
    "# ICDs['ICD Date'] = pd.to_datetime(ICDs['ShiftedContactDTS']).dt.strftime('%Y-%m-%d')\n",
    "# ICDs['ICD Date'] = pd.to_datetime(ICDs['ICD Date'])\n",
    "# ICDs = ICDs[['BDSPPatientID', 'ICD Date']]\n",
    "# ICDs.head()\n",
    "\n",
    "ICDs = ICDs[ICDs['BDSPPatientID'].isin(set(matrix['BDSPPatientID']))]\n",
    "ICDs['ICD Date'] = pd.to_datetime(ICDs['CreateDate']).dt.strftime('%Y-%m-%d')\n",
    "# ICDs['ICD Date'] = pd.to_datetime(ICDs['ICD Date'])\n",
    "ICDs = ICDs[['BDSPPatientID', 'ICD Date']]\n",
    "ICDs.head()"
   ]
  },
  {
   "cell_type": "code",
   "execution_count": 7,
   "metadata": {},
   "outputs": [
    {
     "name": "stdout",
     "output_type": "stream",
     "text": [
      "500\n"
     ]
    }
   ],
   "source": [
    "print(ICDs['BDSPPatientID'].nunique())"
   ]
  },
  {
   "cell_type": "code",
   "execution_count": 8,
   "metadata": {},
   "outputs": [
    {
     "name": "stdout",
     "output_type": "stream",
     "text": [
      "3278\n"
     ]
    }
   ],
   "source": [
    "print(len(ICDs))"
   ]
  },
  {
   "cell_type": "code",
   "execution_count": 9,
   "metadata": {},
   "outputs": [
    {
     "name": "stdout",
     "output_type": "stream",
     "text": [
      "   BDSPEncounterID  EncounterLineNBR  BDSPPatientID  CreateDate  ICDLineNBR  \\\n",
      "0     1.339649e+10                 1    113319054.0  2017-09-21         1.0   \n",
      "1     1.347001e+10                 1    115367785.0  2020-02-18         1.0   \n",
      "2     1.338726e+10                 1    117147113.0  2017-09-14         1.0   \n",
      "3     1.354173e+10                 1    112059081.0  2022-05-31         1.0   \n",
      "4     1.339986e+10                 4    119027616.0  2019-09-29         1.0   \n",
      "\n",
      "   ICDCD             ICDDSC                                  DiagnosisNM  \\\n",
      "0  332.0  Paralysis agitans  Parkinsonism, unspecified Parkinsonism type   \n",
      "1  332.0  Paralysis agitans                            Parkinson disease   \n",
      "2  332.0  Paralysis agitans                          Parkinson's disease   \n",
      "3  332.0  Paralysis agitans                            Parkinson disease   \n",
      "4  332.0  Paralysis agitans                          Parkinson's disease   \n",
      "\n",
      "  DiagnosisDSC PrimaryDiagnosisFLG DiagnosisChronicFLG  \\\n",
      "0          NaN                   N                   N   \n",
      "1          NaN                   Y                   N   \n",
      "2          NaN                   Y                   N   \n",
      "3          NaN                   Y                   N   \n",
      "4          NaN                   N                   N   \n",
      "\n",
      "              ShiftedUpdateDTS  DiagnosisLinkedProblemID  \\\n",
      "0  2022-11-24 17:37:00.0000000                       NaN   \n",
      "1  2020-02-26 09:46:00.0000000                54096537.0   \n",
      "2  2022-05-25 18:21:00.0000000                23753278.0   \n",
      "3  2022-05-31 13:17:00.0000000                       NaN   \n",
      "4  2019-10-04 23:08:00.0000000                18378003.0   \n",
      "\n",
      "           BDSPLastModifiedDTS code_type  \n",
      "0  2023-08-15 21:00:40.5240000      ICD9  \n",
      "1  2022-04-27 12:58:36.0030000      ICD9  \n",
      "2  2023-08-15 23:17:17.6300000      ICD9  \n",
      "3  2022-04-27 13:27:03.6830000      ICD9  \n",
      "4  2022-04-27 13:21:20.6900000      ICD9  \n",
      "365192\n",
      "33587\n"
     ]
    },
    {
     "name": "stderr",
     "output_type": "stream",
     "text": [
      "/tmp/ipykernel_549360/216046602.py:1: DtypeWarning: Columns (5,6) have mixed types. Specify dtype option on import or set low_memory=False.\n",
      "  ICDs_MGB = pd.read_csv('/home/bram/Project_PD/PD project/Cohort construction/initial classification/MEDICDDATA POS/MGB_ICDPLUS.csv')\n"
     ]
    }
   ],
   "source": [
    "ICDs_MGB = pd.read_csv('/home/bram/Project_PD/PD project/Cohort construction/initial classification/MEDICDDATA POS/MGB_ICDPLUS.csv')\n",
    "print(ICDs_MGB.head())\n",
    "print(len(ICDs_MGB))\n",
    "\n",
    "ICDs_MGB = ICDs_MGB[ICDs_MGB['BDSPPatientID'].isin(set(matrix['BDSPPatientID']))]\n",
    "ICDs_MGB['ICD Date'] = pd.to_datetime(ICDs_MGB['CreateDate']).dt.strftime('%Y-%m-%d')\n",
    "# ICDs['ICD Date'] = pd.to_datetime(ICDs['ICD Date'])\n",
    "ICDs_MGB = ICDs_MGB[['BDSPPatientID', 'ICD Date']]\n",
    "ICDs_MGB.head()\n",
    "print(len(ICDs_MGB))"
   ]
  },
  {
   "cell_type": "code",
   "execution_count": 10,
   "metadata": {},
   "outputs": [
    {
     "name": "stdout",
     "output_type": "stream",
     "text": [
      "    BDSPPatientID    ICD Date\n",
      "13    113996673.0  2017-10-01\n",
      "17    121888695.0  2021-07-07\n",
      "35    114337378.0  2021-04-03\n",
      "38    120578313.0  2017-11-08\n",
      "45    113580635.0  2022-06-12\n",
      "33587\n",
      "964\n"
     ]
    }
   ],
   "source": [
    "print(ICDs_MGB.head())\n",
    "print(len(ICDs_MGB))\n",
    "print(ICDs_MGB['BDSPPatientID'].nunique()) #validated 964"
   ]
  },
  {
   "cell_type": "code",
   "execution_count": 11,
   "metadata": {},
   "outputs": [
    {
     "name": "stdout",
     "output_type": "stream",
     "text": [
      "   bdsp_patient_id           CreateDate     age      type  \\\n",
      "0        177501743  2016-05-01 00:00:00  73.540  Primary    \n",
      "1        177501743  2016-05-01 00:00:00  73.540  Primary    \n",
      "2        177501743  2016-05-01 08:17:00  73.541       NaN   \n",
      "3        177501743  2016-05-01 08:17:00  73.541       NaN   \n",
      "4        177511104  2016-05-02 00:00:00  62.099       NaN   \n",
      "\n",
      "                      source icd9_code icd10_code           description  \\\n",
      "0  Professional Billing Code       NaN        G20   Parkinson's disease   \n",
      "1        Encounter Diagnosis     332.0     G20.A1  Parkinson's syndrome   \n",
      "2            Admit Diagnosis       NaN        G20   Parkinson's disease   \n",
      "3  Professional Billing Code       NaN        G20   Parkinson's disease   \n",
      "4        Encounter Diagnosis     332.0     G20.A1   Parkinson's disease   \n",
      "\n",
      "  performing_provider billing_provider  bdsp_patient_encounter_id  \n",
      "0           NEUROLOGY        NEUROLOGY               2.314206e+11  \n",
      "1           NEUROLOGY              NaN               2.314206e+11  \n",
      "2                 NaN              NaN               2.314206e+11  \n",
      "3                 NaN              NaN               2.314206e+11  \n",
      "4           NEUROLOGY              NaN               2.314029e+11  \n",
      "39071\n"
     ]
    }
   ],
   "source": [
    "ICDs_STF = pd.read_csv('/home/bram/Project_PD/PD project/Cohort construction/initial classification/MEDICDDATA POS/STF_ICDPLUS.csv')\n",
    "print(ICDs_STF.head())\n",
    "print(len(ICDs_STF))\n"
   ]
  },
  {
   "cell_type": "code",
   "execution_count": 12,
   "metadata": {},
   "outputs": [
    {
     "name": "stdout",
     "output_type": "stream",
     "text": [
      "   bdsp_patient_id           CreateDate     age      type  \\\n",
      "0        177501743  2016-05-01 00:00:00  73.540  Primary    \n",
      "1        177501743  2016-05-01 00:00:00  73.540  Primary    \n",
      "2        177501743  2016-05-01 08:17:00  73.541       NaN   \n",
      "3        177501743  2016-05-01 08:17:00  73.541       NaN   \n",
      "4        177511104  2016-05-02 00:00:00  62.099       NaN   \n",
      "\n",
      "                      source icd9_code icd10_code           description  \\\n",
      "0  Professional Billing Code       NaN        G20   Parkinson's disease   \n",
      "1        Encounter Diagnosis     332.0     G20.A1  Parkinson's syndrome   \n",
      "2            Admit Diagnosis       NaN        G20   Parkinson's disease   \n",
      "3  Professional Billing Code       NaN        G20   Parkinson's disease   \n",
      "4        Encounter Diagnosis     332.0     G20.A1   Parkinson's disease   \n",
      "\n",
      "  performing_provider billing_provider  bdsp_patient_encounter_id  \\\n",
      "0           NEUROLOGY        NEUROLOGY               2.314206e+11   \n",
      "1           NEUROLOGY              NaN               2.314206e+11   \n",
      "2                 NaN              NaN               2.314206e+11   \n",
      "3                 NaN              NaN               2.314206e+11   \n",
      "4           NEUROLOGY              NaN               2.314029e+11   \n",
      "\n",
      "   BDSPPatientID  \n",
      "0      177501743  \n",
      "1      177501743  \n",
      "2      177501743  \n",
      "3      177501743  \n",
      "4      177511104  \n"
     ]
    }
   ],
   "source": [
    "ICDs_STF['BDSPPatientID']=ICDs_STF['bdsp_patient_id']\n",
    "print(ICDs_STF.head())"
   ]
  },
  {
   "cell_type": "code",
   "execution_count": 13,
   "metadata": {},
   "outputs": [
    {
     "name": "stdout",
     "output_type": "stream",
     "text": [
      "20242\n"
     ]
    }
   ],
   "source": [
    "ICDs_STF = ICDs_STF[ICDs_STF['BDSPPatientID'].isin(set(matrix['BDSPPatientID']))]\n",
    "ICDs_STF['ICD Date'] = pd.to_datetime(ICDs_STF['CreateDate']).dt.strftime('%Y-%m-%d')\n",
    "# ICDs['ICD Date'] = pd.to_datetime(ICDs['ICD Date'])\n",
    "ICDs_STF = ICDs_STF[['BDSPPatientID', 'ICD Date']]\n",
    "ICDs_STF.head()\n",
    "print(len(ICDs_STF))"
   ]
  },
  {
   "cell_type": "code",
   "execution_count": 14,
   "metadata": {},
   "outputs": [
    {
     "name": "stdout",
     "output_type": "stream",
     "text": [
      "363\n",
      "   BDSPPatientID    ICD Date\n",
      "4      177511104  2016-05-02\n",
      "5      177511104  2016-05-02\n",
      "6      177527333  2016-05-03\n",
      "7      177527333  2016-05-03\n",
      "8      177527333  2016-05-03\n"
     ]
    }
   ],
   "source": [
    "print(ICDs_STF['BDSPPatientID'].nunique())#validated icd+ are 363 patients\n",
    "print(ICDs_STF.head())"
   ]
  },
  {
   "cell_type": "code",
   "execution_count": 15,
   "metadata": {},
   "outputs": [],
   "source": [
    "ICDs_compl=[ICDs,ICDs_STF ,ICDs_MGB]\n",
    "\n",
    "ICDs_complete=pd.concat(ICDs_compl, ignore_index=True)"
   ]
  },
  {
   "cell_type": "code",
   "execution_count": 16,
   "metadata": {},
   "outputs": [
    {
     "name": "stdout",
     "output_type": "stream",
     "text": [
      "<bound method NDFrame.head of        BDSPPatientID    ICD Date\n",
      "0        150001276.0  2016-05-18\n",
      "1        150287462.0  2016-06-02\n",
      "2        150001629.0  2016-05-02\n",
      "3        150001629.0  2016-07-27\n",
      "4        150001629.0  2016-08-10\n",
      "...              ...         ...\n",
      "57102    116218371.0  2017-02-11\n",
      "57103    115108029.0  2022-08-10\n",
      "57104    112639696.0  2017-01-12\n",
      "57105    122217727.0  2020-03-20\n",
      "57106    117270174.0  2022-06-26\n",
      "\n",
      "[57107 rows x 2 columns]>\n",
      "57107\n",
      "1827\n"
     ]
    }
   ],
   "source": [
    "print(ICDs_complete.head)\n",
    "print(len(ICDs_complete))\n",
    "print(ICDs_complete['BDSPPatientID'].nunique())"
   ]
  },
  {
   "cell_type": "code",
   "execution_count": 17,
   "metadata": {},
   "outputs": [],
   "source": [
    "matrix['CreateDate']= pd.to_datetime(matrix['CreateDate']) \n",
    "ICDs_complete['ICD Date'] = pd.to_datetime(ICDs_complete['ICD Date'])"
   ]
  },
  {
   "cell_type": "code",
   "execution_count": 18,
   "metadata": {},
   "outputs": [
    {
     "name": "stdout",
     "output_type": "stream",
     "text": [
      "3827\n"
     ]
    },
    {
     "data": {
      "text/html": [
       "<div>\n",
       "<style scoped>\n",
       "    .dataframe tbody tr th:only-of-type {\n",
       "        vertical-align: middle;\n",
       "    }\n",
       "\n",
       "    .dataframe tbody tr th {\n",
       "        vertical-align: top;\n",
       "    }\n",
       "\n",
       "    .dataframe thead th {\n",
       "        text-align: right;\n",
       "    }\n",
       "</style>\n",
       "<table border=\"1\" class=\"dataframe\">\n",
       "  <thead>\n",
       "    <tr style=\"text-align: right;\">\n",
       "      <th></th>\n",
       "      <th>BDSPPatientID</th>\n",
       "      <th>CreateDate</th>\n",
       "      <th>hospital</th>\n",
       "      <th>parkinson disease_pos</th>\n",
       "      <th>pd_pos</th>\n",
       "      <th>parkinson_pos</th>\n",
       "      <th>parkinsonismx_pos</th>\n",
       "      <th>disease_pos</th>\n",
       "      <th>akathisia_pos</th>\n",
       "      <th>anosmia_pos</th>\n",
       "      <th>...</th>\n",
       "      <th>exelon_neg</th>\n",
       "      <th>cane_neg</th>\n",
       "      <th>fall_neg</th>\n",
       "      <th>deep brain stimulation_neg</th>\n",
       "      <th>dbs_neg</th>\n",
       "      <th>bradykinesia_neg</th>\n",
       "      <th>hypokinesia_neg</th>\n",
       "      <th>dementia_neg</th>\n",
       "      <th>pneumonia_neg</th>\n",
       "      <th>ICD</th>\n",
       "    </tr>\n",
       "  </thead>\n",
       "  <tbody>\n",
       "    <tr>\n",
       "      <th>0</th>\n",
       "      <td>150709433</td>\n",
       "      <td>2017-10-23</td>\n",
       "      <td>BIDMC</td>\n",
       "      <td>0</td>\n",
       "      <td>0</td>\n",
       "      <td>0</td>\n",
       "      <td>0</td>\n",
       "      <td>1</td>\n",
       "      <td>0</td>\n",
       "      <td>0</td>\n",
       "      <td>...</td>\n",
       "      <td>0</td>\n",
       "      <td>0</td>\n",
       "      <td>0</td>\n",
       "      <td>0</td>\n",
       "      <td>0</td>\n",
       "      <td>0</td>\n",
       "      <td>0</td>\n",
       "      <td>0</td>\n",
       "      <td>0</td>\n",
       "      <td>0</td>\n",
       "    </tr>\n",
       "    <tr>\n",
       "      <th>1</th>\n",
       "      <td>150669096</td>\n",
       "      <td>2022-03-09</td>\n",
       "      <td>BIDMC</td>\n",
       "      <td>0</td>\n",
       "      <td>0</td>\n",
       "      <td>0</td>\n",
       "      <td>0</td>\n",
       "      <td>0</td>\n",
       "      <td>0</td>\n",
       "      <td>0</td>\n",
       "      <td>...</td>\n",
       "      <td>0</td>\n",
       "      <td>0</td>\n",
       "      <td>0</td>\n",
       "      <td>0</td>\n",
       "      <td>0</td>\n",
       "      <td>0</td>\n",
       "      <td>0</td>\n",
       "      <td>0</td>\n",
       "      <td>0</td>\n",
       "      <td>0</td>\n",
       "    </tr>\n",
       "    <tr>\n",
       "      <th>2</th>\n",
       "      <td>151275717</td>\n",
       "      <td>2018-05-01</td>\n",
       "      <td>BIDMC</td>\n",
       "      <td>0</td>\n",
       "      <td>0</td>\n",
       "      <td>0</td>\n",
       "      <td>0</td>\n",
       "      <td>1</td>\n",
       "      <td>0</td>\n",
       "      <td>0</td>\n",
       "      <td>...</td>\n",
       "      <td>0</td>\n",
       "      <td>0</td>\n",
       "      <td>1</td>\n",
       "      <td>0</td>\n",
       "      <td>0</td>\n",
       "      <td>0</td>\n",
       "      <td>0</td>\n",
       "      <td>0</td>\n",
       "      <td>0</td>\n",
       "      <td>0</td>\n",
       "    </tr>\n",
       "    <tr>\n",
       "      <th>3</th>\n",
       "      <td>151013494</td>\n",
       "      <td>2021-06-09</td>\n",
       "      <td>BIDMC</td>\n",
       "      <td>0</td>\n",
       "      <td>0</td>\n",
       "      <td>0</td>\n",
       "      <td>0</td>\n",
       "      <td>0</td>\n",
       "      <td>0</td>\n",
       "      <td>0</td>\n",
       "      <td>...</td>\n",
       "      <td>0</td>\n",
       "      <td>0</td>\n",
       "      <td>0</td>\n",
       "      <td>0</td>\n",
       "      <td>0</td>\n",
       "      <td>0</td>\n",
       "      <td>0</td>\n",
       "      <td>0</td>\n",
       "      <td>0</td>\n",
       "      <td>0</td>\n",
       "    </tr>\n",
       "    <tr>\n",
       "      <th>4</th>\n",
       "      <td>150642824</td>\n",
       "      <td>2021-11-24</td>\n",
       "      <td>BIDMC</td>\n",
       "      <td>0</td>\n",
       "      <td>0</td>\n",
       "      <td>0</td>\n",
       "      <td>0</td>\n",
       "      <td>0</td>\n",
       "      <td>0</td>\n",
       "      <td>0</td>\n",
       "      <td>...</td>\n",
       "      <td>0</td>\n",
       "      <td>0</td>\n",
       "      <td>0</td>\n",
       "      <td>0</td>\n",
       "      <td>0</td>\n",
       "      <td>0</td>\n",
       "      <td>0</td>\n",
       "      <td>0</td>\n",
       "      <td>0</td>\n",
       "      <td>0</td>\n",
       "    </tr>\n",
       "  </tbody>\n",
       "</table>\n",
       "<p>5 rows × 212 columns</p>\n",
       "</div>"
      ],
      "text/plain": [
       "   BDSPPatientID CreateDate hospital  parkinson disease_pos  pd_pos  \\\n",
       "0      150709433 2017-10-23    BIDMC                      0       0   \n",
       "1      150669096 2022-03-09    BIDMC                      0       0   \n",
       "2      151275717 2018-05-01    BIDMC                      0       0   \n",
       "3      151013494 2021-06-09    BIDMC                      0       0   \n",
       "4      150642824 2021-11-24    BIDMC                      0       0   \n",
       "\n",
       "   parkinson_pos  parkinsonismx_pos  disease_pos  akathisia_pos  anosmia_pos  \\\n",
       "0              0                  0            1              0            0   \n",
       "1              0                  0            0              0            0   \n",
       "2              0                  0            1              0            0   \n",
       "3              0                  0            0              0            0   \n",
       "4              0                  0            0              0            0   \n",
       "\n",
       "   ...  exelon_neg  cane_neg  fall_neg  deep brain stimulation_neg  dbs_neg  \\\n",
       "0  ...           0         0         0                           0        0   \n",
       "1  ...           0         0         0                           0        0   \n",
       "2  ...           0         0         1                           0        0   \n",
       "3  ...           0         0         0                           0        0   \n",
       "4  ...           0         0         0                           0        0   \n",
       "\n",
       "   bradykinesia_neg  hypokinesia_neg  dementia_neg  pneumonia_neg  ICD  \n",
       "0                 0                0             0              0    0  \n",
       "1                 0                0             0              0    0  \n",
       "2                 0                0             0              0    0  \n",
       "3                 0                0             0              0    0  \n",
       "4                 0                0             0              0    0  \n",
       "\n",
       "[5 rows x 212 columns]"
      ]
     },
     "execution_count": 18,
     "metadata": {},
     "output_type": "execute_result"
    }
   ],
   "source": [
    "# add 1 or 0 to new column in matrix that denotes whether an icd is present +- 6 months from note creation date\n",
    "#merge the dfs on patient ID\n",
    "merged_df = pd.merge(matrix, ICDs_complete, on='BDSPPatientID')\n",
    "#check for date timeline\n",
    "merged_df['ICD'] = merged_df.apply(\n",
    "    lambda row: (row['CreateDate'] >= row['ICD Date'] - pd.DateOffset(months=6)) and \n",
    "                (row['CreateDate'] <= row['ICD Date'] + pd.DateOffset(months=6)), axis=1)\n",
    "matrix['ICD'] = matrix.apply(\n",
    "    lambda row: merged_df[(merged_df['BDSPPatientID'] == row['BDSPPatientID']) & merged_df['ICD']].shape[0] > 0, axis=1).astype(int)\n",
    "\n",
    "print(len(matrix))\n",
    "matrix.head()"
   ]
  },
  {
   "cell_type": "code",
   "execution_count": 19,
   "metadata": {},
   "outputs": [
    {
     "name": "stdout",
     "output_type": "stream",
     "text": [
      "      BDSPPatientID CreateDate hospital  parkinson disease_pos  pd_pos  \\\n",
      "599       151249469 2016-07-16    BIDMC                      0       0   \n",
      "2207      115567637 2019-09-18      MGB                      0       0   \n",
      "2803      111377874 2016-05-16      MGB                      0       1   \n",
      "1963      116850554 2019-03-04      MGB                      0       0   \n",
      "3724      121924461 2022-06-10      MGB                      1       0   \n",
      "2865      112293874 2016-05-27      MGB                      0       0   \n",
      "3771      118461281 2021-10-30      MGB                      0       1   \n",
      "3817      114712307 2021-12-13      MGB                      0       1   \n",
      "3537      114649521 2017-06-16      MGB                      0       0   \n",
      "982       151302721 2022-01-16    BIDMC                      1       1   \n",
      "1949      120424010 2016-11-21      MGB                      0       0   \n",
      "1056      177502501 2020-08-05      STF                      1       0   \n",
      "564       150365329 2017-06-07    BIDMC                      1       0   \n",
      "2322      111604229 2021-11-14      MGB                      0       0   \n",
      "228       150047202 2016-05-29    BIDMC                      0       0   \n",
      "322       150040916 2016-10-22    BIDMC                      0       0   \n",
      "3445      114570138 2019-02-05      MGB                      0       0   \n",
      "1731      177522810 2018-06-20      STF                      0       0   \n",
      "2379      118051668 2022-01-26      MGB                      0       0   \n",
      "3163      115594534 2021-12-03      MGB                      0       0   \n",
      "\n",
      "      parkinson_pos  parkinsonismx_pos  disease_pos  akathisia_pos  \\\n",
      "599               0                  0            0              0   \n",
      "2207              0                  0            1              0   \n",
      "2803              0                  1            1              0   \n",
      "1963              0                  0            0              0   \n",
      "3724              1                  0            1              0   \n",
      "2865              0                  1            1              0   \n",
      "3771              0                  0            0              0   \n",
      "3817              0                  0            0              0   \n",
      "3537              0                  0            1              0   \n",
      "982               1                  0            1              0   \n",
      "1949              0                  0            1              0   \n",
      "1056              1                  0            1              0   \n",
      "564               1                  0            1              0   \n",
      "2322              0                  1            1              0   \n",
      "228               0                  0            0              0   \n",
      "322               0                  0            0              0   \n",
      "3445              0                  0            1              0   \n",
      "1731              0                  0            1              0   \n",
      "2379              0                  0            0              0   \n",
      "3163              0                  1            0              0   \n",
      "\n",
      "      anosmia_pos  ...  exelon_neg  cane_neg  fall_neg  \\\n",
      "599             0  ...           0         0         0   \n",
      "2207            0  ...           0         0         0   \n",
      "2803            0  ...           0         0         0   \n",
      "1963            0  ...           0         0         0   \n",
      "3724            0  ...           0         0         0   \n",
      "2865            0  ...           0         0         0   \n",
      "3771            0  ...           0         0         0   \n",
      "3817            0  ...           0         0         0   \n",
      "3537            0  ...           0         0         0   \n",
      "982             0  ...           0         0         0   \n",
      "1949            0  ...           0         0         0   \n",
      "1056            0  ...           0         0         0   \n",
      "564             0  ...           0         0         0   \n",
      "2322            0  ...           0         0         0   \n",
      "228             0  ...           0         0         0   \n",
      "322             0  ...           0         0         1   \n",
      "3445            0  ...           0         0         0   \n",
      "1731            0  ...           0         0         0   \n",
      "2379            0  ...           0         0         0   \n",
      "3163            0  ...           0         0         0   \n",
      "\n",
      "      deep brain stimulation_neg  dbs_neg  bradykinesia_neg  hypokinesia_neg  \\\n",
      "599                            0        0                 0                0   \n",
      "2207                           0        0                 0                0   \n",
      "2803                           0        0                 0                0   \n",
      "1963                           0        0                 0                0   \n",
      "3724                           0        0                 0                0   \n",
      "2865                           0        0                 0                0   \n",
      "3771                           0        0                 0                0   \n",
      "3817                           0        0                 0                0   \n",
      "3537                           0        0                 0                0   \n",
      "982                            0        0                 0                0   \n",
      "1949                           0        0                 0                0   \n",
      "1056                           0        0                 0                0   \n",
      "564                            0        0                 0                0   \n",
      "2322                           0        0                 1                0   \n",
      "228                            0        0                 0                0   \n",
      "322                            0        0                 0                0   \n",
      "3445                           0        0                 0                0   \n",
      "1731                           0        0                 0                0   \n",
      "2379                           0        0                 0                0   \n",
      "3163                           0        0                 0                0   \n",
      "\n",
      "      dementia_neg  pneumonia_neg  ICD  \n",
      "599              0              0    1  \n",
      "2207             0              0    1  \n",
      "2803             0              0    1  \n",
      "1963             0              0    1  \n",
      "3724             0              0    0  \n",
      "2865             0              0    1  \n",
      "3771             0              1    0  \n",
      "3817             0              0    0  \n",
      "3537             0              0    0  \n",
      "982              0              0    1  \n",
      "1949             0              0    0  \n",
      "1056             0              0    1  \n",
      "564              0              0    1  \n",
      "2322             0              0    0  \n",
      "228              0              0    0  \n",
      "322              0              0    0  \n",
      "3445             0              0    0  \n",
      "1731             0              0    0  \n",
      "2379             0              0    1  \n",
      "3163             0              0    1  \n",
      "\n",
      "[20 rows x 212 columns]\n"
     ]
    }
   ],
   "source": [
    "print(matrix.sample(20))"
   ]
  },
  {
   "cell_type": "code",
   "execution_count": 20,
   "metadata": {},
   "outputs": [],
   "source": [
    "matrix.to_csv('matrix_incl_icd.csv', index=False)"
   ]
  }
 ],
 "metadata": {
  "kernelspec": {
   "display_name": "bramenv",
   "language": "python",
   "name": "python3"
  },
  "language_info": {
   "codemirror_mode": {
    "name": "ipython",
    "version": 3
   },
   "file_extension": ".py",
   "mimetype": "text/x-python",
   "name": "python",
   "nbconvert_exporter": "python",
   "pygments_lexer": "ipython3",
   "version": "3.10.12"
  }
 },
 "nbformat": 4,
 "nbformat_minor": 2
}
