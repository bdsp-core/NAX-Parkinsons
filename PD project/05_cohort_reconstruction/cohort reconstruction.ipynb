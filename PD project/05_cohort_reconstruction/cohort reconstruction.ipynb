{
 "cells": [
  {
   "cell_type": "code",
   "execution_count": null,
   "metadata": {},
   "outputs": [],
   "source": [
    "import pandas as pd\n"
   ]
  },
  {
   "cell_type": "markdown",
   "metadata": {},
   "source": []
  },
  {
   "cell_type": "code",
   "execution_count": null,
   "metadata": {},
   "outputs": [],
   "source": [
    "mgb_cohort_plpl= pd.read_csv('/home/bram/internal_expansion/HOSPITALS/Stanford/BG_STAN/ICDPLMEDPL_Stan.csv')\n",
    "print(len(mgb_cohort_plpl))\n",
    "\n",
    "mgb_cohort_plmi=pd.read_csv('/home/bram/internal_expansion/HOSPITALS/Stanford/BG_STAN/ICDPLMEDMI_Stan.csv')\n",
    "print(len(mgb_cohort_plmi))\n",
    "mgb_cohort_mipl= pd.read_csv('/home/bram/internal_expansion/HOSPITALS/Stanford/BG_STAN/ICDMIMEDPL_Stan.csv')\n",
    "print(len(mgb_cohort_mipl))\n",
    "mgb_cohort_mimi= pd.read_csv('/home/bram/internal_expansion/HOSPITALS/Stanford/BG_STAN/ICDMIMEDMI_Stan.csv')\n",
    "print(len(mgb_cohort_mimi))\n",
    "\n"
   ]
  },
  {
   "cell_type": "code",
   "execution_count": null,
   "metadata": {},
   "outputs": [],
   "source": [
    "all_mgb=[mgb_cohort_mimi, mgb_cohort_mipl, mgb_cohort_plmi, mgb_cohort_plpl]\n",
    "\n",
    "MGB=pd.concat(all_mgb, ignore_index=True)\n",
    "\n",
    "print(len(MGB))\n",
    "print(MGB['BDSPPatientID'].nunique())"
   ]
  },
  {
   "cell_type": "code",
   "execution_count": null,
   "metadata": {},
   "outputs": [],
   "source": [
    "sample_mgb=MGB.sample(10000,random_state=2023)"
   ]
  },
  {
   "cell_type": "code",
   "execution_count": null,
   "metadata": {},
   "outputs": [],
   "source": [
    "print(sample_mgb)"
   ]
  },
  {
   "cell_type": "code",
   "execution_count": null,
   "metadata": {},
   "outputs": [],
   "source": [
    "check_MGB_MIMI=sample_mgb['BDSPPatientID'].isin(mgb_cohort_mimi['BDSPPatientID'])\n",
    "incl_MGB_MIMI = sample_mgb[check_MGB_MIMI]\n",
    "print(incl_MGB_MIMI)\n",
    "incl_MGB_MIMI.to_csv('STF_MIMI_rcs.csv', index=False)"
   ]
  },
  {
   "cell_type": "code",
   "execution_count": null,
   "metadata": {},
   "outputs": [],
   "source": [
    "\n"
   ]
  },
  {
   "cell_type": "code",
   "execution_count": null,
   "metadata": {},
   "outputs": [],
   "source": [
    "check_MGB_PLMI=sample_mgb['BDSPPatientID'].isin(mgb_cohort_plmi['BDSPPatientID'])\n",
    "incl_MGB_PLMI= sample_mgb[check_MGB_PLMI]\n",
    "print(incl_MGB_PLMI)\n",
    "incl_MGB_PLMI.to_csv('STF_PLMI_rcs.csv', index=False)"
   ]
  },
  {
   "cell_type": "code",
   "execution_count": null,
   "metadata": {},
   "outputs": [],
   "source": [
    "check_MGB_MIPL=sample_mgb['BDSPPatientID'].isin(mgb_cohort_mipl['BDSPPatientID'])\n",
    "incl_MGB_MIPL= sample_mgb[check_MGB_MIPL]\n",
    "print(incl_MGB_MIPL)\n",
    "incl_MGB_MIPL.to_csv('STF_MIPL_rcs.csv', index=False)"
   ]
  },
  {
   "cell_type": "code",
   "execution_count": null,
   "metadata": {},
   "outputs": [],
   "source": [
    "check_MGB_PLPL=sample_mgb['BDSPPatientID'].isin(mgb_cohort_plpl['BDSPPatientID'])\n",
    "incl_MGB_PLPL= sample_mgb[check_MGB_PLPL]\n",
    "print(incl_MGB_PLPL)\n",
    "print(len(incl_MGB_PLPL))\n",
    "incl_MGB_PLPL.to_csv('STF_PLPL_rcs.csv', index=False)"
   ]
  },
  {
   "cell_type": "code",
   "execution_count": null,
   "metadata": {},
   "outputs": [],
   "source": [
    "bidmc_plpl=pd.read_csv('/home/bram/bramenv/cohort reconstruction/BIDMC_PLPL_rcs.csv')\n",
    "mgb_plpl=pd.read_csv('/home/bram/bramenv/cohort reconstruction/MGB_PLPL_rcs.csv')\n",
    "stf_plpl=pd.read_csv('/home/bram/bramenv/cohort reconstruction/STF_PLPL_rcs.csv')\n",
    "print(len(bidmc_plpl))\n",
    "print(len(mgb_plpl))\n",
    "print(len(stf_plpl))\n",
    "plpl=[bidmc_plpl, mgb_plpl, stf_plpl]\n",
    "\n",
    "plpl_df=pd.concat(plpl, ignore_index=True)\n",
    "\n",
    "\n",
    "print(len(plpl_df))"
   ]
  },
  {
   "cell_type": "code",
   "execution_count": null,
   "metadata": {},
   "outputs": [],
   "source": [
    "plpl_df.to_csv('plpl_rcs.csv', index=False)"
   ]
  },
  {
   "cell_type": "code",
   "execution_count": null,
   "metadata": {},
   "outputs": [],
   "source": [
    "bidmc_plmi=pd.read_csv('/home/bram/bramenv/cohort reconstruction/BIDMC_PLMI_rcs.csv')\n",
    "mgb_plmi=pd.read_csv('/home/bram/bramenv/cohort reconstruction/MGB_PLMI_rcs.csv')\n",
    "stf_plmi=pd.read_csv('/home/bram/bramenv/cohort reconstruction/STF_PLMI_rcs.csv')\n",
    "print(len(bidmc_plmi))\n",
    "print(len(mgb_plmi))\n",
    "print(len(stf_plmi))\n",
    "plmi=[bidmc_plmi, mgb_plmi, stf_plmi]\n",
    "\n",
    "plmi_df=pd.concat(plmi, ignore_index=True)\n",
    "\n",
    "\n",
    "print(len(plmi_df))"
   ]
  },
  {
   "cell_type": "code",
   "execution_count": null,
   "metadata": {},
   "outputs": [],
   "source": [
    "plmi_df.to_csv('plmi_rcs.csv', index=False)"
   ]
  },
  {
   "cell_type": "code",
   "execution_count": null,
   "metadata": {},
   "outputs": [],
   "source": [
    "bidmc_mipl=pd.read_csv('/home/bram/bramenv/cohort reconstruction/BIDMC_MIPL_rcs.csv')\n",
    "mgb_mipl=pd.read_csv('/home/bram/bramenv/cohort reconstruction/MGB_MIPL_rcs.csv')\n",
    "stf_mipl=pd.read_csv('/home/bram/bramenv/cohort reconstruction/STF_MIPL_rcs.csv')\n",
    "print(len(bidmc_mipl))\n",
    "print(len(mgb_mipl))\n",
    "print(len(stf_mipl))\n",
    "mipl=[bidmc_mipl, mgb_mipl, stf_mipl]\n",
    "mipl_df=pd.concat(mipl, ignore_index=True)\n",
    "\n",
    "\n",
    "print(len(mipl_df))"
   ]
  },
  {
   "cell_type": "code",
   "execution_count": null,
   "metadata": {},
   "outputs": [],
   "source": [
    "mipl_df.to_csv('mipl_rcs.csv', index=False)"
   ]
  },
  {
   "cell_type": "code",
   "execution_count": null,
   "metadata": {},
   "outputs": [],
   "source": [
    "bidmc_mimi=pd.read_csv('/home/bram/bramenv/cohort reconstruction/BIDMC_MIMI_rcs.csv')\n",
    "mgb_mimi=pd.read_csv('/home/bram/bramenv/cohort reconstruction/MGB_MIMI_rcs.csv')\n",
    "stf_mimi=pd.read_csv('/home/bram/bramenv/cohort reconstruction/STF_MIMI_rcs.csv')\n",
    "print(len(bidmc_mimi))\n",
    "print(len(mgb_mimi))\n",
    "print(len(stf_mimi))\n",
    "mimi=[bidmc_mimi, mgb_mimi, stf_mimi]\n",
    "mimi_df=pd.concat(mimi, ignore_index=True)\n",
    "\n",
    "\n",
    "print(len(mimi_df))"
   ]
  },
  {
   "cell_type": "code",
   "execution_count": null,
   "metadata": {},
   "outputs": [],
   "source": [
    "mimi_df.to_csv('mimi_rcs.csv', index=False)"
   ]
  }
 ],
 "metadata": {
  "kernelspec": {
   "display_name": "bramenv",
   "language": "python",
   "name": "python3"
  },
  "language_info": {
   "codemirror_mode": {
    "name": "ipython",
    "version": 3
   },
   "file_extension": ".py",
   "mimetype": "text/x-python",
   "name": "python",
   "nbconvert_exporter": "python",
   "pygments_lexer": "ipython3",
   "version": "3.10.12"
  }
 },
 "nbformat": 4,
 "nbformat_minor": 2
}
