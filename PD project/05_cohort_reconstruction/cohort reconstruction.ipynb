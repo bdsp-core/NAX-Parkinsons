{
 "cells": [
  {
   "cell_type": "code",
   "execution_count": 103,
   "metadata": {},
   "outputs": [],
   "source": [
    "import pandas as pd\n"
   ]
  },
  {
   "cell_type": "markdown",
   "metadata": {},
   "source": []
  },
  {
   "cell_type": "code",
   "execution_count": 104,
   "metadata": {},
   "outputs": [
    {
     "name": "stdout",
     "output_type": "stream",
     "text": [
      "528\n",
      "113\n",
      "3034\n",
      "38805\n"
     ]
    }
   ],
   "source": [
    "mgb_cohort_plpl= pd.read_csv('/home/bram/internal_expansion/HOSPITALS/Stanford/BG_STAN/ICDPLMEDPL_Stan.csv')\n",
    "print(len(mgb_cohort_plpl))\n",
    "\n",
    "mgb_cohort_plmi=pd.read_csv('/home/bram/internal_expansion/HOSPITALS/Stanford/BG_STAN/ICDPLMEDMI_Stan.csv')\n",
    "print(len(mgb_cohort_plmi))\n",
    "mgb_cohort_mipl= pd.read_csv('/home/bram/internal_expansion/HOSPITALS/Stanford/BG_STAN/ICDMIMEDPL_Stan.csv')\n",
    "print(len(mgb_cohort_mipl))\n",
    "mgb_cohort_mimi= pd.read_csv('/home/bram/internal_expansion/HOSPITALS/Stanford/BG_STAN/ICDMIMEDMI_Stan.csv')\n",
    "print(len(mgb_cohort_mimi))\n",
    "\n"
   ]
  },
  {
   "cell_type": "code",
   "execution_count": 105,
   "metadata": {},
   "outputs": [
    {
     "name": "stdout",
     "output_type": "stream",
     "text": [
      "42480\n",
      "42480\n"
     ]
    }
   ],
   "source": [
    "all_mgb=[mgb_cohort_mimi, mgb_cohort_mipl, mgb_cohort_plmi, mgb_cohort_plpl]\n",
    "\n",
    "MGB=pd.concat(all_mgb, ignore_index=True)\n",
    "\n",
    "print(len(MGB))\n",
    "print(MGB['BDSPPatientID'].nunique())"
   ]
  },
  {
   "cell_type": "code",
   "execution_count": 106,
   "metadata": {},
   "outputs": [],
   "source": [
    "sample_mgb=MGB.sample(10000,random_state=2023)"
   ]
  },
  {
   "cell_type": "code",
   "execution_count": 107,
   "metadata": {},
   "outputs": [
    {
     "name": "stdout",
     "output_type": "stream",
     "text": [
      "       BDSPPatientID\n",
      "966        177501411\n",
      "13492      177520424\n",
      "20543      177531031\n",
      "19705      177529787\n",
      "26707      177540389\n",
      "...              ...\n",
      "39762      177556034\n",
      "7385       177511152\n",
      "9837       177514909\n",
      "31636      177547802\n",
      "33396      177550525\n",
      "\n",
      "[10000 rows x 1 columns]\n"
     ]
    }
   ],
   "source": [
    "print(sample_mgb)"
   ]
  },
  {
   "cell_type": "code",
   "execution_count": 108,
   "metadata": {},
   "outputs": [
    {
     "name": "stdout",
     "output_type": "stream",
     "text": [
      "       BDSPPatientID\n",
      "966        177501411\n",
      "13492      177520424\n",
      "20543      177531031\n",
      "19705      177529787\n",
      "26707      177540389\n",
      "...              ...\n",
      "1227       177501818\n",
      "7385       177511152\n",
      "9837       177514909\n",
      "31636      177547802\n",
      "33396      177550525\n",
      "\n",
      "[9108 rows x 1 columns]\n"
     ]
    }
   ],
   "source": [
    "check_MGB_MIMI=sample_mgb['BDSPPatientID'].isin(mgb_cohort_mimi['BDSPPatientID'])\n",
    "incl_MGB_MIMI = sample_mgb[check_MGB_MIMI]\n",
    "print(incl_MGB_MIMI)\n",
    "incl_MGB_MIMI.to_csv('STF_MIMI_rcs.csv', index=False)"
   ]
  },
  {
   "cell_type": "code",
   "execution_count": null,
   "metadata": {},
   "outputs": [],
   "source": [
    "\n"
   ]
  },
  {
   "cell_type": "code",
   "execution_count": 109,
   "metadata": {},
   "outputs": [
    {
     "name": "stdout",
     "output_type": "stream",
     "text": [
      "       BDSPPatientID\n",
      "41839      177523200\n",
      "41840      177555462\n",
      "41917      177523566\n",
      "41852      177514557\n",
      "41924      177507713\n",
      "41898      177539879\n",
      "41925      177518468\n",
      "41923      177547136\n",
      "41894      177520414\n",
      "41849      177524272\n",
      "41858      177500787\n",
      "41890      177524505\n",
      "41939      177542092\n",
      "41873      177535168\n",
      "41945      177546716\n",
      "41881      177536740\n",
      "41850      177540155\n",
      "41911      177502036\n",
      "41895      177504545\n",
      "41900      177544493\n",
      "41949      177512426\n",
      "41934      177541558\n",
      "41896      177514274\n",
      "41856      177515111\n",
      "41897      177533735\n",
      "41948      177545704\n",
      "41888      177542419\n",
      "41946      177549277\n",
      "41879      177551583\n",
      "41932      177522095\n"
     ]
    }
   ],
   "source": [
    "check_MGB_PLMI=sample_mgb['BDSPPatientID'].isin(mgb_cohort_plmi['BDSPPatientID'])\n",
    "incl_MGB_PLMI= sample_mgb[check_MGB_PLMI]\n",
    "print(incl_MGB_PLMI)\n",
    "incl_MGB_PLMI.to_csv('STF_PLMI_rcs.csv', index=False)"
   ]
  },
  {
   "cell_type": "code",
   "execution_count": 110,
   "metadata": {},
   "outputs": [
    {
     "name": "stdout",
     "output_type": "stream",
     "text": [
      "       BDSPPatientID\n",
      "41779      177504094\n",
      "39071      177545951\n",
      "38956      177553839\n",
      "41541      177536177\n",
      "39224      177538203\n",
      "...              ...\n",
      "40526      177517161\n",
      "41068      177526766\n",
      "41501      177503308\n",
      "39919      177540124\n",
      "39762      177556034\n",
      "\n",
      "[743 rows x 1 columns]\n"
     ]
    }
   ],
   "source": [
    "check_MGB_MIPL=sample_mgb['BDSPPatientID'].isin(mgb_cohort_mipl['BDSPPatientID'])\n",
    "incl_MGB_MIPL= sample_mgb[check_MGB_MIPL]\n",
    "print(incl_MGB_MIPL)\n",
    "incl_MGB_MIPL.to_csv('STF_MIPL_rcs.csv', index=False)"
   ]
  },
  {
   "cell_type": "code",
   "execution_count": 111,
   "metadata": {},
   "outputs": [
    {
     "name": "stdout",
     "output_type": "stream",
     "text": [
      "       BDSPPatientID\n",
      "42324      177556871\n",
      "42156      177556166\n",
      "41979      177504356\n",
      "42427      177528623\n",
      "42121      177515072\n",
      "...              ...\n",
      "41994      177541286\n",
      "42430      177524543\n",
      "41958      177520658\n",
      "41998      177524916\n",
      "42271      177527994\n",
      "\n",
      "[119 rows x 1 columns]\n",
      "119\n"
     ]
    }
   ],
   "source": [
    "check_MGB_PLPL=sample_mgb['BDSPPatientID'].isin(mgb_cohort_plpl['BDSPPatientID'])\n",
    "incl_MGB_PLPL= sample_mgb[check_MGB_PLPL]\n",
    "print(incl_MGB_PLPL)\n",
    "print(len(incl_MGB_PLPL))\n",
    "incl_MGB_PLPL.to_csv('STF_PLPL_rcs.csv', index=False)"
   ]
  },
  {
   "cell_type": "code",
   "execution_count": 114,
   "metadata": {},
   "outputs": [
    {
     "name": "stdout",
     "output_type": "stream",
     "text": [
      "112\n",
      "57\n",
      "119\n",
      "288\n"
     ]
    }
   ],
   "source": [
    "bidmc_plpl=pd.read_csv('/home/bram/bramenv/cohort reconstruction/BIDMC_PLPL_rcs.csv')\n",
    "mgb_plpl=pd.read_csv('/home/bram/bramenv/cohort reconstruction/MGB_PLPL_rcs.csv')\n",
    "stf_plpl=pd.read_csv('/home/bram/bramenv/cohort reconstruction/STF_PLPL_rcs.csv')\n",
    "print(len(bidmc_plpl))\n",
    "print(len(mgb_plpl))\n",
    "print(len(stf_plpl))\n",
    "plpl=[bidmc_plpl, mgb_plpl, stf_plpl]\n",
    "\n",
    "plpl_df=pd.concat(plpl, ignore_index=True)\n",
    "\n",
    "\n",
    "print(len(plpl_df))"
   ]
  },
  {
   "cell_type": "code",
   "execution_count": 121,
   "metadata": {},
   "outputs": [],
   "source": [
    "plpl_df.to_csv('plpl_rcs.csv', index=False)"
   ]
  },
  {
   "cell_type": "code",
   "execution_count": 115,
   "metadata": {},
   "outputs": [
    {
     "name": "stdout",
     "output_type": "stream",
     "text": [
      "29\n",
      "9\n",
      "30\n",
      "68\n"
     ]
    }
   ],
   "source": [
    "bidmc_plmi=pd.read_csv('/home/bram/bramenv/cohort reconstruction/BIDMC_PLMI_rcs.csv')\n",
    "mgb_plmi=pd.read_csv('/home/bram/bramenv/cohort reconstruction/MGB_PLMI_rcs.csv')\n",
    "stf_plmi=pd.read_csv('/home/bram/bramenv/cohort reconstruction/STF_PLMI_rcs.csv')\n",
    "print(len(bidmc_plmi))\n",
    "print(len(mgb_plmi))\n",
    "print(len(stf_plmi))\n",
    "plmi=[bidmc_plmi, mgb_plmi, stf_plmi]\n",
    "\n",
    "plmi_df=pd.concat(plmi, ignore_index=True)\n",
    "\n",
    "\n",
    "print(len(plmi_df))"
   ]
  },
  {
   "cell_type": "code",
   "execution_count": 118,
   "metadata": {},
   "outputs": [],
   "source": [
    "plmi_df.to_csv('plmi_rcs.csv', index=False)"
   ]
  },
  {
   "cell_type": "code",
   "execution_count": 116,
   "metadata": {},
   "outputs": [
    {
     "name": "stdout",
     "output_type": "stream",
     "text": [
      "210\n",
      "252\n",
      "743\n",
      "1205\n"
     ]
    }
   ],
   "source": [
    "bidmc_mipl=pd.read_csv('/home/bram/bramenv/cohort reconstruction/BIDMC_MIPL_rcs.csv')\n",
    "mgb_mipl=pd.read_csv('/home/bram/bramenv/cohort reconstruction/MGB_MIPL_rcs.csv')\n",
    "stf_mipl=pd.read_csv('/home/bram/bramenv/cohort reconstruction/STF_MIPL_rcs.csv')\n",
    "print(len(bidmc_mipl))\n",
    "print(len(mgb_mipl))\n",
    "print(len(stf_mipl))\n",
    "mipl=[bidmc_mipl, mgb_mipl, stf_mipl]\n",
    "mipl_df=pd.concat(mipl, ignore_index=True)\n",
    "\n",
    "\n",
    "print(len(mipl_df))"
   ]
  },
  {
   "cell_type": "code",
   "execution_count": 119,
   "metadata": {},
   "outputs": [],
   "source": [
    "mipl_df.to_csv('mipl_rcs.csv', index=False)"
   ]
  },
  {
   "cell_type": "code",
   "execution_count": 117,
   "metadata": {},
   "outputs": [
    {
     "name": "stdout",
     "output_type": "stream",
     "text": [
      "9649\n",
      "9682\n",
      "9108\n",
      "28439\n"
     ]
    }
   ],
   "source": [
    "bidmc_mimi=pd.read_csv('/home/bram/bramenv/cohort reconstruction/BIDMC_MIMI_rcs.csv')\n",
    "mgb_mimi=pd.read_csv('/home/bram/bramenv/cohort reconstruction/MGB_MIMI_rcs.csv')\n",
    "stf_mimi=pd.read_csv('/home/bram/bramenv/cohort reconstruction/STF_MIMI_rcs.csv')\n",
    "print(len(bidmc_mimi))\n",
    "print(len(mgb_mimi))\n",
    "print(len(stf_mimi))\n",
    "mimi=[bidmc_mimi, mgb_mimi, stf_mimi]\n",
    "mimi_df=pd.concat(mimi, ignore_index=True)\n",
    "\n",
    "\n",
    "print(len(mimi_df))"
   ]
  },
  {
   "cell_type": "code",
   "execution_count": 120,
   "metadata": {},
   "outputs": [],
   "source": [
    "mimi_df.to_csv('mimi_rcs.csv', index=False)"
   ]
  }
 ],
 "metadata": {
  "kernelspec": {
   "display_name": "bramenv",
   "language": "python",
   "name": "python3"
  },
  "language_info": {
   "codemirror_mode": {
    "name": "ipython",
    "version": 3
   },
   "file_extension": ".py",
   "mimetype": "text/x-python",
   "name": "python",
   "nbconvert_exporter": "python",
   "pygments_lexer": "ipython3",
   "version": "3.10.12"
  }
 },
 "nbformat": 4,
 "nbformat_minor": 2
}
