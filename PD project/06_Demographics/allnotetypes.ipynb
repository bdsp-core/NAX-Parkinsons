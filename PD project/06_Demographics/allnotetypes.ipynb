{
 "cells": [
  {
   "cell_type": "code",
   "execution_count": null,
   "metadata": {},
   "outputs": [],
   "source": [
    "import pandas as pd"
   ]
  },
  {
   "cell_type": "code",
   "execution_count": null,
   "metadata": {},
   "outputs": [],
   "source": [
    "df_0 = pd.read_csv('/home/bram/internal_expansion/HOSPITALS/MGB/notes/meta/mgb_notes_2016_metadata.csv')\n",
    "df_1 = pd.read_csv('/home/bram/internal_expansion/HOSPITALS/MGB/notes/meta/mgb_notes_2017_metadata.csv')\n",
    "df_2 = pd.read_csv('/home/bram/internal_expansion/HOSPITALS/MGB/notes/meta/mgb_notes_2018_metadata.csv')\n",
    "df_3 = pd.read_csv('/home/bram/internal_expansion/HOSPITALS/MGB/notes/meta/mgb_notes_2019_metadata.csv')\n",
    "df_4 = pd.read_csv('/home/bram/internal_expansion/HOSPITALS/MGB/notes/meta/mgb_notes_2020_metadata.csv')\n",
    "df_5 = pd.read_csv('/home/bram/internal_expansion/HOSPITALS/MGB/notes/meta/mgb_notes_2021_metadata.csv')\n",
    "df_6 = pd.read_csv('/home/bram/internal_expansion/HOSPITALS/MGB/notes/meta/mgb_notes_2022_metadata.csv')\n",
    "\n",
    "dfs_MGB = [df_0,df_1, df_2, df_3, df_4, df_5, df_6]  # List of DataFrames\n",
    "print(dfs_MGB)\n"
   ]
  },
  {
   "cell_type": "code",
   "execution_count": null,
   "metadata": {},
   "outputs": [],
   "source": [
    "df_MGB=pd.concat(dfs_MGB, ignore_index=True)\n",
    "df_MGB['Notetype']=df_MGB['InpatientNoteTypeDSC']\n",
    "\n",
    "\n",
    "# df_stf[\"BDSPPatientID\"]= df_stf['bdsp_patient_id']\n",
    "df_MGB['ContactDate']=pd.to_datetime(df_MGB['ContactDate'], format= '%Y%m%d')\n",
    "df_MGB['CreateDate']=df_MGB['ContactDate'].dt.date\n",
    "df_MGB['deidentifiedname']=df_MGB['DeidentifiedName']\n",
    "\n",
    "print(df_MGB)\n",
    "print(df_MGB)\n",
    "\n"
   ]
  },
  {
   "cell_type": "code",
   "execution_count": null,
   "metadata": {},
   "outputs": [],
   "source": [
    "filtered_metadata_MGB = df_MGB.merge(matrix[['deidentifiedname']], on=['deidentifiedname'], how='inner')\n",
    "print(filtered_metadata_MGB)"
   ]
  },
  {
   "cell_type": "code",
   "execution_count": null,
   "metadata": {},
   "outputs": [],
   "source": [
    "print(filtered_metadata_MGB['Notetype'].value_counts())"
   ]
  },
  {
   "cell_type": "code",
   "execution_count": null,
   "metadata": {},
   "outputs": [],
   "source": [
    "df_0 = pd.read_csv('/media/bram/Expansion/Bidmc/notes/metadata/bidmc_notes_2016_metadata.csv')\n",
    "df_1 = pd.read_csv('/media/bram/Expansion/Bidmc/notes/metadata/bidmc_notes_2017_metadata.csv')\n",
    "df_2 = pd.read_csv('/media/bram/Expansion/Bidmc/notes/metadata/bidmc_notes_2018_metadata.csv')\n",
    "df_3 = pd.read_csv('/media/bram/Expansion/Bidmc/notes/metadata/bidmc_notes_2019_metadata.csv')\n",
    "df_4 = pd.read_csv('/media/bram/Expansion/Bidmc/notes/metadata/bidmc_notes_2020_metadata.csv')\n",
    "df_5 = pd.read_csv('/media/bram/Expansion/Bidmc/notes/metadata/bidmc_notes_2021_metadata.csv')\n",
    "df_6 = pd.read_csv('/media/bram/Expansion/Bidmc/notes/metadata/bidmc_notes_2022_metadata.csv')\n",
    "\n",
    "\n",
    "dfs_bidmc = [df_0,df_1, df_2, df_3, df_4, df_5, df_6]  # List of DataFrames\n",
    "print(dfs_bidmc)"
   ]
  },
  {
   "cell_type": "code",
   "execution_count": null,
   "metadata": {},
   "outputs": [],
   "source": [
    "df_bidmc=pd.concat(dfs_bidmc, ignore_index=True)\n",
    "df_bidmc['Notetype']=df_bidmc['NoteTypeFull']\n",
    "\n",
    "# df_stf[\"BDSPPatientID\"]= df_stf['bdsp_patient_id']\n",
    "df_bidmc['CreateDate']=pd.to_datetime(df_bidmc['CreateDate'], format= '%Y%m%d')\n",
    "df_bidmc['CreateDate']=df_bidmc['CreateDate'].dt.date\n",
    "df_bidmc['deidentifiedname']=df_bidmc['DeidentifiedName']\n",
    "\n",
    "print(df_bidmc)\n",
    "print(df_bidmc)\n",
    "print(df_bidmc)"
   ]
  },
  {
   "cell_type": "code",
   "execution_count": null,
   "metadata": {},
   "outputs": [],
   "source": [
    "filtered_metadata_BIDMC = df_bidmc.merge(matrix[['deidentifiedname']], on=['deidentifiedname'], how='inner')\n",
    "print(filtered_metadata_BIDMC)"
   ]
  },
  {
   "cell_type": "code",
   "execution_count": null,
   "metadata": {},
   "outputs": [],
   "source": [
    "print(filtered_metadata_BIDMC['Notetype'].value_counts())"
   ]
  },
  {
   "cell_type": "code",
   "execution_count": null,
   "metadata": {},
   "outputs": [],
   "source": [
    "\n",
    "df_0 = pd.read_csv('/home/bram/internal_expansion/HOSPITALS/Stanford/notes/meta/I0004_notes_2016.csv')\n",
    "df_1 = pd.read_csv('/home/bram/internal_expansion/HOSPITALS/Stanford/notes/meta/I0004_notes_2017.csv')\n",
    "df_2 = pd.read_csv('/home/bram/internal_expansion/HOSPITALS/Stanford/notes/meta/I0004_notes_2018.csv')\n",
    "df_3 = pd.read_csv('/home/bram/internal_expansion/HOSPITALS/Stanford/notes/meta/I0004_notes_2019.csv')\n",
    "df_4 = pd.read_csv('/home/bram/internal_expansion/HOSPITALS/Stanford/notes/meta/I0004_notes_2020.csv')\n",
    "df_5 = pd.read_csv('/home/bram/internal_expansion/HOSPITALS/Stanford/notes/meta/I0004_notes_2021.csv')\n",
    "df_6 = pd.read_csv('/home/bram/internal_expansion/HOSPITALS/Stanford/notes/meta/I0004_notes_2022.csv')\n",
    "\n",
    "\n",
    "\n",
    "dfs_STF = [df_0,df_1, df_2, df_3, df_4, df_5, df_6] \n",
    "print(dfs_STF)"
   ]
  },
  {
   "cell_type": "code",
   "execution_count": null,
   "metadata": {},
   "outputs": [],
   "source": [
    "df_stf=pd.concat(dfs_STF, ignore_index=True)\n",
    "\n",
    "df_stf['type'].unique()"
   ]
  },
  {
   "cell_type": "code",
   "execution_count": null,
   "metadata": {},
   "outputs": [],
   "source": [
    "df_stf['Notetype']=df_stf['type']\n",
    "df_stf[\"BDSPPatientID\"]= df_stf['bdsp_patient_id']\n",
    "df_stf['shifted_date']=pd.to_datetime(df_stf['shifted_date'])\n",
    "df_stf['CreateDate']=df_stf['shifted_date'].dt.date\n",
    "df_stf['deidentifiedname']=df_stf['filename']\n",
    "print(df_stf)"
   ]
  },
  {
   "cell_type": "code",
   "execution_count": null,
   "metadata": {},
   "outputs": [],
   "source": [
    "matrix=pd.read_csv('/home/bram/Project_PD/afeaturematrix/ALLHOSPITALS_NEW_DATA.csv')\n",
    "\n",
    "matrix['CreateDate']=pd.to_datetime(matrix['CreateDate'])\n",
    "print(matrix)"
   ]
  },
  {
   "cell_type": "code",
   "execution_count": null,
   "metadata": {},
   "outputs": [],
   "source": [
    "df_stf['bdsp_patient_id'].nunique()"
   ]
  },
  {
   "cell_type": "code",
   "execution_count": null,
   "metadata": {},
   "outputs": [],
   "source": [
    "df_stf['CreateDate'] = pd.to_datetime(df_stf['CreateDate'])\n",
    "matrix['CreateDate'] = pd.to_datetime(matrix['CreateDate'])\n"
   ]
  },
  {
   "cell_type": "code",
   "execution_count": null,
   "metadata": {},
   "outputs": [],
   "source": [
    "filtered_metadata_stf = df_stf.merge(matrix[['BDSPPatientID', 'CreateDate']], on=['BDSPPatientID', 'CreateDate'], how='inner')\n",
    "print(filtered_metadata_stf)\n"
   ]
  },
  {
   "cell_type": "code",
   "execution_count": null,
   "metadata": {},
   "outputs": [],
   "source": []
  },
  {
   "cell_type": "code",
   "execution_count": null,
   "metadata": {},
   "outputs": [],
   "source": [
    "print(filtered_metadata_stf['Notetype'].unique())"
   ]
  },
  {
   "cell_type": "code",
   "execution_count": null,
   "metadata": {},
   "outputs": [],
   "source": [
    "print(matrix[matrix['hospital']== 'STF'])"
   ]
  },
  {
   "cell_type": "code",
   "execution_count": null,
   "metadata": {},
   "outputs": [],
   "source": []
  },
  {
   "cell_type": "code",
   "execution_count": null,
   "metadata": {},
   "outputs": [],
   "source": [
    "filtered_metadata_stf = df_stf.merge(matrix[['BDSPPatientID', 'CreateDate']], on=['BDSPPatientID', 'CreateDate'], how='inner')\n",
    "print(filtered_metadata_stf)\n",
    "filtered_metadata_stf['bdsp_patient_id'].nunique()"
   ]
  },
  {
   "cell_type": "code",
   "execution_count": null,
   "metadata": {},
   "outputs": [],
   "source": [
    "print(df_stf.columns)"
   ]
  },
  {
   "cell_type": "code",
   "execution_count": null,
   "metadata": {},
   "outputs": [],
   "source": [
    "filtered_metadata_stf = df_stf.merge(matrix[['deidentifiedname']], on=['deidentifiedname'], how='inner')\n",
    "print(filtered_metadata_stf)\n",
    "# filtered_metadata_df['bdsp_patient_id'].nunique()"
   ]
  },
  {
   "cell_type": "code",
   "execution_count": null,
   "metadata": {},
   "outputs": [],
   "source": [
    "print(filtered_metadata_stf['Notetype'].value_counts())"
   ]
  }
 ],
 "metadata": {
  "kernelspec": {
   "display_name": "venv",
   "language": "python",
   "name": "python3"
  },
  "language_info": {
   "codemirror_mode": {
    "name": "ipython",
    "version": 3
   },
   "file_extension": ".py",
   "mimetype": "text/x-python",
   "name": "python",
   "nbconvert_exporter": "python",
   "pygments_lexer": "ipython3",
   "version": "3.10.12"
  }
 },
 "nbformat": 4,
 "nbformat_minor": 2
}
