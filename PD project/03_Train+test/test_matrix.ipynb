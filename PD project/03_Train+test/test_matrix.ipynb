{
 "cells": [
  {
   "cell_type": "code",
   "execution_count": null,
   "metadata": {},
   "outputs": [],
   "source": [
    "import pandas as pd\n"
   ]
  },
  {
   "cell_type": "code",
   "execution_count": null,
   "metadata": {},
   "outputs": [],
   "source": [
    "matrix=pd.read_csv('/home/bram/bramenv/matrices/newmatrix_dropcol_15_new.csv')"
   ]
  },
  {
   "cell_type": "code",
   "execution_count": null,
   "metadata": {},
   "outputs": [],
   "source": [
    "matrix.columns"
   ]
  },
  {
   "cell_type": "code",
   "execution_count": null,
   "metadata": {},
   "outputs": [],
   "source": [
    "print(matrix['parkinson disease_pos'].sum())\n",
    "selected_rows = matrix[matrix['parkinson disease_pos'] == 1]\n",
    "print(selected_rows)"
   ]
  },
  {
   "cell_type": "code",
   "execution_count": null,
   "metadata": {},
   "outputs": [],
   "source": [
    "matrix_new=pd.read_csv('/home/bram/bramenv/aa_test matrix/FEATMATRIX_TEXT_test.csv')\n",
    "matrix_new.columns"
   ]
  },
  {
   "cell_type": "code",
   "execution_count": null,
   "metadata": {},
   "outputs": [],
   "source": [
    "print(matrix_new['parkinson disease_pos'].sum())\n",
    "selected_rows = matrix_new[matrix_new['parkinson disease_pos'] == 1]\n",
    "print(selected_rows)\n",
    "\n",
    "print(matrix_new[\"parkinson's disease_pos\"].sum())\n",
    "selected_rows = matrix_new[matrix_new[\"parkinson's disease_pos\"] == 1]\n",
    "print(selected_rows)"
   ]
  },
  {
   "cell_type": "code",
   "execution_count": null,
   "metadata": {},
   "outputs": [],
   "source": [
    "overlap_rows = matrix_new[(matrix_new['parkinson disease_pos'] == 1) & (matrix_new[\"parkinson's disease_pos\"] == 1)]\n",
    "\n",
    "# Print the selected rows\n",
    "print(\"Rows where both columns are 1:\")\n",
    "print(overlap_rows)"
   ]
  },
  {
   "cell_type": "code",
   "execution_count": null,
   "metadata": {},
   "outputs": [],
   "source": []
  },
  {
   "cell_type": "code",
   "execution_count": null,
   "metadata": {},
   "outputs": [],
   "source": [
    "  old_keywords = [\n",
    "    'parkinson disease', 'pd', 'parkinson', 'parkinsonismx', 'disease', 'akathisia', 'anosmia', 'apraxia', 'autonomic', \n",
    "    'axial', 'basophilic', 'bradyphrenia', 'cholinergic', 'cogwheel', 'cognitive impairment', 'denervation', \n",
    "    'dopamine', 'dopamine agonist', 'dysphagia', 'dysphonia', 'dystonia', 'facial', 'fasciculation', 'gait', \n",
    "    'festinating', 'shuffling', 'freezing', 'hyposmia', 'hyperreflexia', 'hypokinetic', 'hypomimia', 'hypophonia', \n",
    "    'idiopathic', 'imaging', 'dat', 'mri', 'scan', 'masked facies', 'micrographia', 'mild cognitive impairment', \n",
    "    'mci', 'moca', 'movement disorder', 'multiple system atrophy', 'msa', 'occupational therapy', 'orthostatic', \n",
    "    'palliative', 'paratonia', 'pathology', 'pet', 'physical therapy', 'posture', 'prodrome', 'progressive supranuclear palsy', \n",
    "    'psp', 'rem sleep behavior disorder', 'restless legs', 'saccade', 'sialorrhea', 'speech therapy', 'stooped', 'stn', \n",
    "    'stiff', 'rigidity', 'subcortical', 'supranuclear', 'swallowing', 'tics', 'tremor', 'uptake', 'vascular', 'nausea', \n",
    "    'hallucination', 'constipation', 'fatigue', 'insomnia', 'depression', 'anxiety', 'psychosis', 'lifestyle changes', \n",
    "    'support group', 'caregiver', 'medication adherence', 'prescription refill', 'fall precaution', 'daily function', \n",
    "    'self care', 'quality of life', 'disease progression', 'exercise', 'sleep hygiene', 'care coordination', \n",
    "    'shuffling gait', 'exelon patch', 'exelon', 'cane', 'fall', 'deep brain stimulation', 'dbs', 'bradykinesia', \n",
    "    'hypokinesia', 'dementia', 'pneumonia'\n",
    "]\n",
    "print(len(old_keywords))\n"
   ]
  }
 ],
 "metadata": {
  "kernelspec": {
   "display_name": "bramenv",
   "language": "python",
   "name": "python3"
  },
  "language_info": {
   "codemirror_mode": {
    "name": "ipython",
    "version": 3
   },
   "file_extension": ".py",
   "mimetype": "text/x-python",
   "name": "python",
   "nbconvert_exporter": "python",
   "pygments_lexer": "ipython3",
   "version": "3.10.12"
  }
 },
 "nbformat": 4,
 "nbformat_minor": 2
}
