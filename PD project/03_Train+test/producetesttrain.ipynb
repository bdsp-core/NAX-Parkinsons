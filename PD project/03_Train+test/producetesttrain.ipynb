{
 "cells": [
  {
   "cell_type": "code",
   "execution_count": null,
   "metadata": {},
   "outputs": [],
   "source": [
    "import pandas as pd\n"
   ]
  },
  {
   "cell_type": "code",
   "execution_count": null,
   "metadata": {},
   "outputs": [],
   "source": [
    "matrix=pd.read_csv('/home/bram/bramenv/aa_test_2 matrix/newmatrix_final.csv')\n",
    "print(matrix)"
   ]
  },
  {
   "cell_type": "code",
   "execution_count": null,
   "metadata": {},
   "outputs": [],
   "source": [
    "matrix_shuffled = matrix.sample(frac=1, random_state=2023).reset_index(drop=True)\n",
    "\n",
    "# Split the dataframe into two halves\n",
    "half_size = (len(matrix) // 2)+1\n",
    "training_set = matrix_shuffled.iloc[:half_size]\n",
    "test_set = matrix_shuffled.iloc[half_size:]\n",
    "\n",
    "print(\"\\nFirst half:\")\n",
    "print(training_set)\n",
    "print(\"\\nSecond half:\")\n",
    "print(test_set)"
   ]
  },
  {
   "cell_type": "code",
   "execution_count": null,
   "metadata": {},
   "outputs": [],
   "source": [
    "df1_counts = training_set['hospital'].value_counts()\n",
    "df2_counts = test_set['hospital'].value_counts()\n",
    "\n",
    "print(\"Counts for the first half:\")\n",
    "print(df1_counts)\n",
    "print(\"\\nCounts for the second half:\")\n",
    "print(df2_counts)"
   ]
  },
  {
   "cell_type": "code",
   "execution_count": null,
   "metadata": {},
   "outputs": [],
   "source": [
    "training_set.to_csv('training_set_final.csv', index=False)\n",
    "test_set.to_csv('test_set_final.csv', index=False)"
   ]
  }
 ],
 "metadata": {
  "kernelspec": {
   "display_name": "bramenv",
   "language": "python",
   "name": "python3"
  },
  "language_info": {
   "codemirror_mode": {
    "name": "ipython",
    "version": 3
   },
   "file_extension": ".py",
   "mimetype": "text/x-python",
   "name": "python",
   "nbconvert_exporter": "python",
   "pygments_lexer": "ipython3",
   "version": "3.10.12"
  }
 },
 "nbformat": 4,
 "nbformat_minor": 2
}
