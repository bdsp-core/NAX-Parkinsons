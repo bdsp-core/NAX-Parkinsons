{
 "cells": [
  {
   "cell_type": "code",
   "execution_count": null,
   "metadata": {},
   "outputs": [],
   "source": [
    "import pandas as pd\n"
   ]
  },
  {
   "cell_type": "code",
   "execution_count": null,
   "metadata": {},
   "outputs": [],
   "source": [
    "old_matrix= pd.read_csv('/home/bram/bramenv/matrices/newmatrix_dropcol_15_new.csv')\n",
    "print(old_matrix)\n",
    "annotations=pd.read_csv('/home/bram/bramenv/matrices/full_annotations_ordered2.csv')\n",
    "print(annotations)"
   ]
  },
  {
   "cell_type": "code",
   "execution_count": null,
   "metadata": {},
   "outputs": [],
   "source": []
  },
  {
   "cell_type": "code",
   "execution_count": null,
   "metadata": {},
   "outputs": [],
   "source": [
    "new_matrix= pd.read_csv('/home/bram/bramenv/aa_test_2 matrix/FEATMATRIX_TEXT_test3.csv')\n",
    "print(new_matrix)"
   ]
  },
  {
   "cell_type": "code",
   "execution_count": null,
   "metadata": {},
   "outputs": [],
   "source": [
    "col_to_drop_up_to = 'ICD'\n",
    "\n",
    "# Get the index of the column\n",
    "col_index = old_matrix.columns.get_loc(col_to_drop_up_to)\n",
    "\n",
    "# Drop all columns up to and including the specified column\n",
    "df_dropped =old_matrix.iloc[:, col_index :]\n",
    "\n",
    "print(df_dropped)"
   ]
  },
  {
   "cell_type": "code",
   "execution_count": null,
   "metadata": {},
   "outputs": [],
   "source": [
    "print(old_matrix.head(20))\n",
    "print(df_dropped.head(20))"
   ]
  },
  {
   "cell_type": "code",
   "execution_count": null,
   "metadata": {},
   "outputs": [],
   "source": [
    "annotations=annotations.drop('BDSPPatientID', axis=1)\n",
    "print(annotations)"
   ]
  },
  {
   "cell_type": "code",
   "execution_count": null,
   "metadata": {},
   "outputs": [],
   "source": [
    "dfs= [new_matrix, df_dropped]\n",
    "complete_matrix= pd.concat(dfs, axis=1)"
   ]
  },
  {
   "cell_type": "code",
   "execution_count": null,
   "metadata": {},
   "outputs": [],
   "source": [
    "print(df_dropped.columns)"
   ]
  },
  {
   "cell_type": "code",
   "execution_count": null,
   "metadata": {},
   "outputs": [],
   "source": [
    "print(complete_matrix)"
   ]
  },
  {
   "cell_type": "code",
   "execution_count": null,
   "metadata": {},
   "outputs": [],
   "source": [
    "# complete_matrix.to_csv('newmatrix_incl_posneg_col.csv', index=False)"
   ]
  },
  {
   "cell_type": "code",
   "execution_count": null,
   "metadata": {},
   "outputs": [],
   "source": [
    "keywords_list = [\"parkinson disease\", \"pd\", \"parkinson\", 'parkinsonismx', \"disease\", \"paralysis agitans\", \"primary parkinsonism\", \n",
    "    \"pdd\", \"akathisia\", \"alien limb\", \"alpha synuclein\", \"anosmia\", \"anticholinergic side effect\", \n",
    "    \"apraxia\", \"autonomic\", \"axial\", \"basophilic\", \"blepharospasm\", \"bradyphasia\", \"bradyphonia\", \n",
    "    \"bradyphrenia\", \"camptocormia\", \"cholinergic\", \"cogwheel\", \"cognitive impairment\", \"corticobasal\", \n",
    "    \"daws\", \"denervation\", \"dopamine\", \"dopamine agonist\", \"dysphagia\", \"dysphonia\", \"dystonia\", \n",
    "    \"facial\", \"fasciculation\", \"gba\", \"gait\", \"festinating\", \"shuffling\", \"freezing\", \"globus\", \n",
    "    \"hyposmia\", \"hyperreflexia\", \"hypokinetic\", \"hypomimia\", \"hypophonia\", \"idiopathic\", \"imaging\", \n",
    "    \"dat spect\", \"datscan\", \"dat\", \"mri\", \"scan\", \"lrrk2\", \"snca\", \"prkn\", \"pink1\", \"dj-1\", \"gba\", \n",
    "    \"vps35\", \"atp13a2\", \"lrrk1\", \"uchl1\", \"mao-b\", \"monoamine oxidase b inhibitor\", \"masked facies\", \n",
    "    \"medullary\", \"micrographia\", \"mild cognitive impairment\", \"mci\", \"montreal cognitive assessment\", \n",
    "    \"moca\", \"movement disorder\", \"multiple system atrophy\", \"msa\", \"nigra pars compacta\", \"nigrostriatal\", \n",
    "    \"ocular torticollis\", \"occupational therapy\", \"orthostatic\", \"orofacial\", \"pallidotomy\", \n",
    "    \"pallidothalamic\", \"palliative\", \"paratonia\", \"pathology\", \"pet\", \"physical therapy\", \"postencephalitic\", \n",
    "    \"posture\", \"primary progressive aphasia\", \"ppa\", \"prodrome\", \"progressive supranuclear palsy\", \n",
    "    \"psp\", \"pyramidal\", \"rem sleep behavior disorder\", \"rbd\", \"restless legs\", \"saccade\", \"sialorrhea\", \n",
    "    \"speech therapy\", \"spasmodic\", \"stooped\", \"subthalamic nucleus\", \"stn\", \"striatal dopamine deficiency\", \n",
    "    \"stiff\", \"rigidity\", \"subcortical\", \"supranuclear\", \"swallowing\", \"tetany\", \"thalamotomy\", \"tics\", \"toronto cognitive assessment\", \"torca\", \"tremor\", \"uptake\", \"vascular\", \"nausea\", \n",
    "    \"hallucination\", \"constipation\", \"fatigue\", \"insomnia\", \"depression\", \"anxiety\", \"psychosis\", \n",
    "    \"dosage adjustment\", \"physiotherapy\", \"lifestyle changes\", \"support group\", \"caregiver\", \n",
    "    \"medication adherence\", \"prescription refill\", \"fall precaution\", \"daily function\", \"self care\", \n",
    "    \"quality of life\", \"disease progression\", \"regular follow-up\", \"exercise\", \"sleep hygiene\", \n",
    "    \"bone health\", \"care coordination\", \"shuffling gait\", \"exelon patch\", \"exelon\", \"cane\", \"fall\", \n",
    "    \"deep brain stimulation\", \"dbs\", \"bradykinesia\", \"hypokinesia\", \"dementia\", \"pulmonary complication\", \n",
    "    \"pneumonia\"]\n",
    "\n",
    "\n",
    "# [\n",
    "#     \"parkinson disease\", \"pd\", \"parkinson\", 'parkinsonismx', \"disease\", \"paralysis agitans\", \"primary parkinsonism\", \n",
    "#     \"pdd\", \"akathisia\", \"alien limb\", \"alpha synuclein\", \"anosmia\", \"anticholinergic side effect\", \n",
    "#     \"apraxia\", \"autonomic\", \"axial\", \"basophilic\", \"blepharospasm\", \"bradyphasia\", \"bradyphonia\", \n",
    "#     \"bradyphrenia\", \"camptocormia\", \"cholinergic\", \"cogwheel\", \"cognitive impairment\", \"corticobasal\", \n",
    "#     \"daws\", \"denervation\", \"dopamine\", \"dopamine agonist\", \"dysphagia\", \"dysphonia\", \"dystonia\", \n",
    "#     \"facial\", \"fasciculation\", \"gba\", \"gait\", \"festinating\", \"shuffling\", \"freezing\", \"globus\", \n",
    "#     \"hyposmia\", \"hyperreflexia\", \"hypokinetic\", \"hypomimia\", \"hypophonia\", \"idiopathic\", \"imaging\", \n",
    "#     \"dat spect\", \"datscan\", \"dat\", \"mri\", \"scan\", \"lrrk2\", \"snca\", \"prkn\", \"pink1\", \"dj-1\", \"gba\", \n",
    "#     \"vps35\", \"atp13a2\", \"lrrk1\", \"uchl1\", \"mao-b\", \"monoamine oxidase b inhibitor\", \"masked facies\", \n",
    "#     \"medullary\", \"micrographia\", \"mild cognitive impairment\", \"mci\", \"montreal cognitive assessment\", \n",
    "#     \"moca\", \"movement disorder\", \"multiple system atrophy\", \"msa\", \"nigra pars compacta\", \"nigrostriatal\", \n",
    "#     \"ocular torticollis\", \"occupational therapy\", \"orthostatic\", \"orofacial\", \"pallidotomy\", \n",
    "#     \"pallidothalamic\", \"palliative\", \"paratonia\", \"pathology\", \"pet\", \"physical therapy\", \"postencephalitic\", \n",
    "#     \"posture\", \"primary progressive aphasia\", \"ppa\", \"prodrome\", \"progressive supranuclear palsy\", \n",
    "#     \"psp\", \"pyramidal\", \"rem sleep behavior disorder\", \"rbd\", \"restless legs\", \"saccade\", \"sialorrhea\", \n",
    "#     \"speech therapy\", \"spasmodic\", \"stooped\", \"subthalamic nucleus\", \"stn\", \"striatal dopamine deficiency\", \n",
    "#     \"stiff\", \"rigidity\", \"subcortical\", \"supranuclear\", \"swallowing\", \"tetany\", \"thalamotomy\", \"tics\", \"toronto cognitive assessment\", \"torca\", \"tremor\", \"uptake\", \"vascular\", \"nausea\", \n",
    "#     \"hallucination\", \"constipation\", \"fatigue\", \"insomnia\", \"depression\", \"anxiety\", \"psychosis\", \n",
    "#     \"dosage adjustment\", \"physiotherapy\", \"lifestyle changes\", \"support group\", \"caregiver\", \n",
    "#     \"medication adherence\", \"prescription refill\", \"fall precaution\", \"daily function\", \"self care\", \n",
    "#     \"quality of life\", \"disease progression\", \"regular follow-up\", \"exercise\", \"sleep hygiene\", \n",
    "#     \"bone health\", \"care coordination\", \"shuffling gait\", \"exelon patch\", \"exelon\", \"cane\", \"fall\", \n",
    "#     \"deep brain stimulation\", \"dbs\", \"bradykinesia\", \"hypokinesia\", \"dementia\", \"pulmonary complication\", \n",
    "#     \"pneumonia\"\n",
    "# ]"
   ]
  },
  {
   "cell_type": "code",
   "execution_count": null,
   "metadata": {},
   "outputs": [],
   "source": [
    "def drop_sparse_features(df, threshold):\n",
    "    counts = df.iloc[:, 3:].sum()  # Exclude the 'text' column from counting\n",
    "    columns_to_drop = []\n",
    "\n",
    "    for keyword in keywords_list:\n",
    "        pos_col = f\"{keyword}_pos\"\n",
    "        neg_col = f\"{keyword}_neg\"\n",
    "        \n",
    "        pos_count = counts.get(pos_col, 0)\n",
    "        neg_count = counts.get(neg_col, 0)\n",
    "        \n",
    "        if pos_count + neg_count < threshold:\n",
    "            if pos_col in df.columns:\n",
    "                columns_to_drop.append(pos_col)\n",
    "            if neg_col in df.columns:\n",
    "                columns_to_drop.append(neg_col)\n",
    "    \n",
    "    return df.drop(columns=columns_to_drop), columns_to_drop\n",
    "\n",
    "# Drop features with less than 30 matches for keyword pairs\n",
    "threshold = 15\n",
    "result, dropped_columns = drop_sparse_features(complete_matrix, threshold)"
   ]
  },
  {
   "cell_type": "code",
   "execution_count": null,
   "metadata": {},
   "outputs": [],
   "source": [
    "print(dropped_columns)\n",
    "print(result)\n",
    "print(list(result.columns))"
   ]
  },
  {
   "cell_type": "code",
   "execution_count": null,
   "metadata": {},
   "outputs": [],
   "source": []
  },
  {
   "cell_type": "code",
   "execution_count": null,
   "metadata": {},
   "outputs": [],
   "source": [
    "columns_old_matrix = set(old_matrix.columns)\n",
    "columns_result = set(result.columns)\n",
    "\n",
    "# Find columns that are in old_matrix but not in result\n",
    "diff_old_to_result = columns_old_matrix - columns_result\n",
    "print(\"Columns in old_matrix but not in result:\", diff_old_to_result)\n",
    "\n",
    "# Find columns that are in result but not in old_matrix\n",
    "diff_result_to_old = columns_result - columns_old_matrix\n",
    "print(\"Columns in result but not in old_matrix:\", diff_result_to_old)\n",
    "\n",
    "# Create a summary DataFrame with padding for unequal lengths\n",
    "max_len = max(len(diff_old_to_result), len(diff_result_to_old))\n",
    "summary = pd.DataFrame({\n",
    "    'Columns in old_matrix but not in result': list(diff_old_to_result) + [''] * (max_len - len(diff_old_to_result)),\n",
    "    'Columns in result but not in old_matrix': list(diff_result_to_old) + [''] * (max_len - len(diff_result_to_old))\n",
    "})\n",
    "\n",
    "print(summary)"
   ]
  },
  {
   "cell_type": "code",
   "execution_count": null,
   "metadata": {},
   "outputs": [],
   "source": [
    "print(list(dropped_columns))"
   ]
  },
  {
   "cell_type": "code",
   "execution_count": null,
   "metadata": {},
   "outputs": [],
   "source": [
    "print(result['parkinson_neg'].sum())"
   ]
  },
  {
   "cell_type": "code",
   "execution_count": null,
   "metadata": {},
   "outputs": [],
   "source": [
    "print(result.columns)"
   ]
  },
  {
   "cell_type": "code",
   "execution_count": null,
   "metadata": {},
   "outputs": [],
   "source": [
    "result.to_csv('newmatrix_final.csv', index=False)"
   ]
  },
  {
   "cell_type": "code",
   "execution_count": null,
   "metadata": {},
   "outputs": [],
   "source": [
    "import pandas as pd\n",
    "\n",
    "# Sample DataFrame\n",
    "data = {\n",
    "    'A': [10, 5, 7],\n",
    "    'B': [4, 5, 6],\n",
    "    'C': [25, 8, 1],\n",
    "    'D': [10, 12, 8]\n",
    "}\n",
    "df = pd.DataFrame(data)\n",
    "\n",
    "# Calculate the sum of each column\n",
    "column_sums = df.sum()\n",
    "\n",
    "# Filter out columns with sum less than 30\n",
    "columns_to_keep = column_sums[column_sums >= 30].index\n",
    "columns_to_drop = column_sums[column_sums < 30].index\n",
    "\n",
    "# Drop columns with sum less than 30\n",
    "df_filtered = df[columns_to_keep]\n",
    "\n",
    "# Display the filtered DataFrame\n",
    "print(\"Filtered DataFrame:\")\n",
    "print(df_filtered)\n",
    "\n",
    "# Display the columns that were dropped\n",
    "df_dropped = df[columns_to_drop]\n",
    "print(\"\\nDropped Columns DataFrame:\")\n",
    "print(df_dropped)"
   ]
  },
  {
   "cell_type": "code",
   "execution_count": null,
   "metadata": {},
   "outputs": [],
   "source": [
    "print(old_matrix['ICD'].head(30))\n",
    "print(df_dropped['ICD'].head(30))\n",
    "print(result['ICD'].head(30))"
   ]
  },
  {
   "cell_type": "code",
   "execution_count": null,
   "metadata": {},
   "outputs": [],
   "source": [
    "print(old_matrix['ICD'].sum())\n",
    "print(df_dropped['ICD'].sum())\n",
    "print(result['ICD'].sum())\n",
    "\n",
    "# now check all rows that have negative values and sums"
   ]
  },
  {
   "cell_type": "code",
   "execution_count": null,
   "metadata": {},
   "outputs": [],
   "source": [
    "print(old_matrix['Carbidopa'].sum())\n",
    "print(df_dropped['Carbidopa'].sum())\n",
    "print(result['Carbidopa'].sum())\n",
    "\n",
    "# now check all rows that have negative values and sums"
   ]
  },
  {
   "cell_type": "code",
   "execution_count": null,
   "metadata": {},
   "outputs": [],
   "source": [
    "check=result.drop(columns=['BDSPPatientID','CreateDate','hospital'] )\n",
    "\n",
    "negative_columns = check.columns[(check< 0).any()]\n",
    "\n",
    "# Display columns with negative values\n",
    "print(\"Columns with negative values:\")\n",
    "print(negative_columns)\n",
    "\n",
    "# If you want to see the data in these columns, you can print them out\n",
    "print(\"\\nData in columns with negative values:\")\n",
    "print(check[negative_columns])"
   ]
  }
 ],
 "metadata": {
  "kernelspec": {
   "display_name": "bramenv",
   "language": "python",
   "name": "python3"
  },
  "language_info": {
   "codemirror_mode": {
    "name": "ipython",
    "version": 3
   },
   "file_extension": ".py",
   "mimetype": "text/x-python",
   "name": "python",
   "nbconvert_exporter": "python",
   "pygments_lexer": "ipython3",
   "version": "3.10.12"
  }
 },
 "nbformat": 4,
 "nbformat_minor": 2
}
